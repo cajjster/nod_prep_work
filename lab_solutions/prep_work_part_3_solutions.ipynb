{
 "cells": [
  {
   "cell_type": "markdown",
   "id": "06a5e64a",
   "metadata": {},
   "source": [
    "<img align=\"right\" src=\"https://iili.io/2FquTQ4.png\" alt=\"2FquTQ4.png\" border=\"0\" style=\"height:45px\" style=\"width:15px\"/>\n",
    "\n",
    "# Prep-Week Exercises for Nod Coding Bootcamp - Part 3 🚀\n",
    "\n",
    "##### This is the last and arguably the most important part of the Prep-work. In this section we will put all the previous concepts together but the main focus will be on problem solving with loops.\n",
    "##### Try to work through the excercises without using ChatGPT.\n",
    "##### Good Luck with the exercises! 🌟"
   ]
  },
  {
   "cell_type": "markdown",
   "id": "ca5fba19",
   "metadata": {},
   "source": [
    "## How to Succeed with these Exercises 🏆\n",
    "\n",
    "#### 💡 Learning by Doing: Experiment, Print, and Execute Your Code\n",
    "\n",
    "When you’re learning to code, it’s completely normal to feel unsure about whether your solution will work. Many beginners write a few lines of code, stare at it, and guess what it might do — but that’s not how you actually learn programming.\n",
    "\n",
    "The real learning happens when you run your code, observe what happens, and adjust.\n",
    "Don’t try to get it perfect before pressing “Run.” \n",
    "\n",
    "Instead:\n",
    "\n",
    "1. Execute often. Run your code after every small change. See what happens.\n",
    "\n",
    "2. Use `print()` statements. Print out intermediate results to check your logic step by step. This helps you understand what your code is actually doing, not just what you think it’s doing.\n",
    "\n",
    "3. Embrace errors. Error messages are your friends — they tell you exactly what went wrong. Learning to read and understand them is one of the most valuable skills you can develop.\n",
    "\n",
    "To sum it up, you don’t learn to code by thinking about code. You learn to code by running code.\n",
    "So be curious, experiment freely, and see your notebook as a playground for testing out ideas rather than a place for perfect answers."
   ]
  },
  {
   "cell_type": "markdown",
   "id": "5dac5064",
   "metadata": {},
   "source": [
    "## The Focus of these Exercises ☕️\n",
    "\n",
    "#### 🧑🏼‍💻 Combining Iteration, Control Flow and, Storage to Solve Problems\n",
    "\n",
    "Many programming problems can be boiled down to this: Going through a bunch of data, do stuff to the data (transform, manipulate, filter etc.) and storing your new result.\n",
    "\n",
    "We can break this down into the following actionable steps:\n",
    "\n",
    "1. Create an empty list for the final results, the empty list will serve as a placeholder.\n",
    "2. Figure out what data you need to go through and write a loop that iterates over each element.\n",
    "3. For each iteration, do something to the data.\n",
    "4. For each iteration, append what you've done to the data.\n",
    "\n",
    "You will be able to solve every single question in this lab using the structure of this pattern.\n",
    "\n",
    "Below are couple of examples that use this pattern to solve different problems."
   ]
  },
  {
   "cell_type": "code",
   "execution_count": 1,
   "id": "6f5ad735",
   "metadata": {},
   "outputs": [
    {
     "name": "stdout",
     "output_type": "stream",
     "text": [
      "[9, 10, 6, 6, 6, 5, 5]\n"
     ]
    }
   ],
   "source": [
    "# EXAMPLE 1: Count the number of characters in each city name.\n",
    "\n",
    "cities = [\"Stockholm\", \"Copenhagen\", \"London\", \"Berlin\", \"Warsaw\", \"Paris\", \"Seoul\"]\n",
    "\n",
    "# 1) Create empty list to store the results\n",
    "city_name_lengths = []\n",
    "\n",
    "# 2) We need to loop through each city in the list\n",
    "for city in cities:\n",
    "    # 3)Get length of the city name\n",
    "    length = len(city)\n",
    "    # 4) Append the length to the results list\n",
    "    city_name_lengths.append(length)\n",
    "\n",
    "\n",
    "print(city_name_lengths)"
   ]
  },
  {
   "cell_type": "code",
   "execution_count": 2,
   "id": "1d2952f8",
   "metadata": {},
   "outputs": [
    {
     "name": "stdout",
     "output_type": "stream",
     "text": [
      "[18, 24, 31, 35, 29, 40, 50, 28, 39, 23, 43, 36, 38, 41, 49, 55]\n"
     ]
    }
   ],
   "source": [
    "# EXAMPLE 2: The list is a queue of people waiting to buy tickets at a concert. Each number represents the age of a person in the queue. The concert has an age restriction: only people aged 18 and older can buy tickets. \n",
    "# Create a new list that only includes the ages of people who are allowed to buy tickets.\n",
    "\n",
    "queue = [18, 24, 31, 35, 17, 29, 40, 50, 28, 39, 12, 17, 16, 23, 43, 36, 38, 41, 49, 55]\n",
    "\n",
    "# 1) Create empty list to store the ages of people who can buy tickets\n",
    "eligible_ages = []\n",
    "\n",
    "# 2) Loop through each age in the queue\n",
    "for age in queue:\n",
    "    # 3) Check if the age is 18 or older\n",
    "    if age >= 18:\n",
    "        # 4) If eligible, append to the new list\n",
    "        eligible_ages.append(age)\n",
    "\n",
    "print(eligible_ages)"
   ]
  },
  {
   "cell_type": "code",
   "execution_count": 3,
   "id": "cd805d44",
   "metadata": {},
   "outputs": [
    {
     "name": "stdout",
     "output_type": "stream",
     "text": [
      "[2.0, 4.0, 5.0, 6.0, 7.0, 8.0, 9.0, 10.0]\n"
     ]
    }
   ],
   "source": [
    "# EXAMPLE 3: get the square root of all numbers in the list `num`.\n",
    "num = [4, 16, 25, 36, 49, 64, 81, 100]\n",
    "\n",
    "# 1) Create empty list to store the results\n",
    "square_roots = []\n",
    "\n",
    "# 2) Loop through each number in the list\n",
    "for n in num:\n",
    "    # 3) Get the square root\n",
    "    root = n ** 0.5\n",
    "    # 4) Append the result to the new list\n",
    "    square_roots.append(root)\n",
    "\n",
    "print(square_roots)"
   ]
  },
  {
   "cell_type": "markdown",
   "id": "5a0469d9",
   "metadata": {},
   "source": [
    "## Q1 - Temperature Conversion for a Weather App\n",
    "\n",
    "You work as a junior developer at a weather app company. Your team receives daily temperature readings in Celsius from different weather stations. The app, however, needs temperatures in Fahrenheit.  \n",
    "\n",
    "You have a list of 20 temperature readings in Celsius. Your task is to create a new list that converts all the temperatures to Fahrenheit using the formula:\n",
    "\n",
    "`Fahrenheit = Celsius * 9/5 + 32`\n",
    "\n",
    "Remember: Focus on the steps needed to transform the data and store the results.\n"
   ]
  },
  {
   "cell_type": "code",
   "execution_count": 4,
   "id": "d2684e5e",
   "metadata": {},
   "outputs": [
    {
     "data": {
      "text/plain": [
       "[32.0,\n",
       " 35.6,\n",
       " 41.0,\n",
       " 44.6,\n",
       " 50.0,\n",
       " 53.6,\n",
       " 59.0,\n",
       " 62.6,\n",
       " 68.0,\n",
       " 71.6,\n",
       " 77.0,\n",
       " 80.6,\n",
       " 86.0,\n",
       " 89.6,\n",
       " 95.0,\n",
       " 98.6,\n",
       " 104.0,\n",
       " 107.6,\n",
       " 113.0,\n",
       " 116.6]"
      ]
     },
     "execution_count": 4,
     "metadata": {},
     "output_type": "execute_result"
    }
   ],
   "source": [
    "# List of 20 temperature readings in Celsius\n",
    "temperatures_celsius = [0, 2, 5, 7, 10, 12, 15, 17, 20, 22, 25, 27, 30, 32, 35, 37, 40, 42, 45, 47]\n",
    "\n",
    "# Step 1: Create an empty list for the final results\n",
    "temperatures_fahrenheit = []\n",
    "\n",
    "# Step 2: Loop through each temperature\n",
    "for temp_c in temperatures_celsius:\n",
    "    # Step 3: Convert Celsius to Fahrenheit\n",
    "    temp_f = temp_c * 9/5 + 32\n",
    "    # Step 4: Append the converted temperature to the result list\n",
    "    temperatures_fahrenheit.append(temp_f)\n",
    "\n",
    "temperatures_fahrenheit"
   ]
  },
  {
   "cell_type": "markdown",
   "id": "0de40808",
   "metadata": {},
   "source": [
    "## Q2 - Email Filtering for a Marketing Team\n",
    "\n",
    "You work as a junior data analyst for a marketing company. Your team receives hundreds of email responses every day after sending out a campaign. Your manager asks you to help identify which emails contain the word \"discount\" so that the marketing team can prioritize follow-ups.  \n",
    "\n",
    "You have a list of 25 email messages collected from a recent campaign. Your task is to go through all the emails and create a new list that contains only the emails that mention \"discount\" (case insensitive).  \n",
    "\n",
    "Remember: Think about the steps you need to filter and store the relevant emails without being explicitly told how to do it.\n"
   ]
  },
  {
   "cell_type": "code",
   "execution_count": null,
   "id": "e4a8578b",
   "metadata": {},
   "outputs": [],
   "source": [
    "# List of 25 email messages\n",
    "emails = [\n",
    "    \"I loved the product, thank you!\",\n",
    "    \"Can I get a discount on my next purchase?\",\n",
    "    \"Your service is amazing.\",\n",
    "    \"Do you have any discounts available?\",\n",
    "    \"Looking forward to the new collection.\",\n",
    "    \"Please send me more info about your discount offers.\",\n",
    "    \"Not interested, thank you.\",\n",
    "    \"Discounts are great, I'd love one!\",\n",
    "    \"Thank you for your help.\",\n",
    "    \"Can you provide a discount code?\",\n",
    "    \"Love the newsletter!\",\n",
    "    \"How do I apply the discount?\",\n",
    "    \"I want to buy more products.\",\n",
    "    \"Is there a student discount available?\",\n",
    "    \"Your products are too expensive.\",\n",
    "    \"I appreciate your quick response.\",\n",
    "    \"Any upcoming discounts this month?\",\n",
    "    \"I'm happy with my purchase.\",\n",
    "    \"Discount or coupon codes?\",\n",
    "    \"Can you help me with a discount?\",\n",
    "    \"Thank you for the free sample.\",\n",
    "    \"Discount makes it affordable!\",\n",
    "    \"I would like to unsubscribe.\",\n",
    "    \"Is there a loyalty discount?\",\n",
    "    \"Looking forward to future discounts.\"\n",
    "]\n",
    "\n",
    "# Step 1: Create an empty list for the final results\n",
    "emails_with_discount = []\n",
    "\n",
    "# Step 2: Loop through each email\n",
    "for email in emails:\n",
    "    # Step 3: Check if the email contains the word \"discount\"\n",
    "    if \"discount\" in email.lower():\n",
    "        # Step 4: Append the matching email to the result list\n",
    "        emails_with_discount.append(email)\n",
    "\n",
    "emails_with_discount\n"
   ]
  },
  {
   "cell_type": "markdown",
   "id": "d1c39d37",
   "metadata": {},
   "source": [
    "## Q3 - Logging HTTP Request Methods\n",
    "\n",
    "You work as a junior backend developer at a web analytics company. Your team collects logs of HTTP requests made to your website. Each request in the log contains information like the URL, the method (GET, POST, PUT, DELETE), and a timestamp.  \n",
    "\n",
    "Your manager wants you to extract a list of all the HTTP methods used in the logs so they can analyze traffic patterns.  \n",
    "\n",
    "You have a list of HTTP request logs. Your task is to go through all the logs and create a new list containing just the request methods from each log.\n"
   ]
  },
  {
   "cell_type": "code",
   "execution_count": 5,
   "id": "59225e6e",
   "metadata": {},
   "outputs": [
    {
     "data": {
      "text/plain": [
       "['GET',\n",
       " 'POST',\n",
       " 'GET',\n",
       " 'PUT',\n",
       " 'POST',\n",
       " 'GET',\n",
       " 'GET',\n",
       " 'POST',\n",
       " 'GET',\n",
       " 'PUT',\n",
       " 'POST',\n",
       " 'GET',\n",
       " 'GET',\n",
       " 'POST',\n",
       " 'GET',\n",
       " 'PUT',\n",
       " 'POST',\n",
       " 'GET',\n",
       " 'GET',\n",
       " 'POST']"
      ]
     },
     "execution_count": 5,
     "metadata": {},
     "output_type": "execute_result"
    }
   ],
   "source": [
    "# List of 20 HTTP request logs\n",
    "http_requests = [\n",
    "    {\"url\": \"/home\", \"method\": \"GET\", \"timestamp\": \"2025-10-22T08:01:00\"},\n",
    "    {\"url\": \"/login\", \"method\": \"POST\", \"timestamp\": \"2025-10-22T08:02:00\"},\n",
    "    {\"url\": \"/dashboard\", \"method\": \"GET\", \"timestamp\": \"2025-10-22T08:03:00\"},\n",
    "    {\"url\": \"/profile\", \"method\": \"PUT\", \"timestamp\": \"2025-10-22T08:04:00\"},\n",
    "    {\"url\": \"/logout\", \"method\": \"POST\", \"timestamp\": \"2025-10-22T08:05:00\"},\n",
    "    {\"url\": \"/settings\", \"method\": \"GET\", \"timestamp\": \"2025-10-22T08:06:00\"},\n",
    "    {\"url\": \"/home\", \"method\": \"GET\", \"timestamp\": \"2025-10-22T08:07:00\"},\n",
    "    {\"url\": \"/login\", \"method\": \"POST\", \"timestamp\": \"2025-10-22T08:08:00\"},\n",
    "    {\"url\": \"/dashboard\", \"method\": \"GET\", \"timestamp\": \"2025-10-22T08:09:00\"},\n",
    "    {\"url\": \"/profile\", \"method\": \"PUT\", \"timestamp\": \"2025-10-22T08:10:00\"},\n",
    "    {\"url\": \"/logout\", \"method\": \"POST\", \"timestamp\": \"2025-10-22T08:11:00\"},\n",
    "    {\"url\": \"/settings\", \"method\": \"GET\", \"timestamp\": \"2025-10-22T08:12:00\"},\n",
    "    {\"url\": \"/home\", \"method\": \"GET\", \"timestamp\": \"2025-10-22T08:13:00\"},\n",
    "    {\"url\": \"/login\", \"method\": \"POST\", \"timestamp\": \"2025-10-22T08:14:00\"},\n",
    "    {\"url\": \"/dashboard\", \"method\": \"GET\", \"timestamp\": \"2025-10-22T08:15:00\"},\n",
    "    {\"url\": \"/profile\", \"method\": \"PUT\", \"timestamp\": \"2025-10-22T08:16:00\"},\n",
    "    {\"url\": \"/logout\", \"method\": \"POST\", \"timestamp\": \"2025-10-22T08:17:00\"},\n",
    "    {\"url\": \"/settings\", \"method\": \"GET\", \"timestamp\": \"2025-10-22T08:18:00\"},\n",
    "    {\"url\": \"/home\", \"method\": \"GET\", \"timestamp\": \"2025-10-22T08:19:00\"},\n",
    "    {\"url\": \"/login\", \"method\": \"POST\", \"timestamp\": \"2025-10-22T08:20:00\"}\n",
    "]\n",
    "\n",
    "# Step 1: Create an empty list for the final results\n",
    "methods = []\n",
    "\n",
    "# Step 2: Loop through each HTTP request\n",
    "for request in http_requests:\n",
    "    # Step 3: Extract the HTTP method\n",
    "    method = request[\"method\"]\n",
    "    # Step 4: Append the method to the result list\n",
    "    methods.append(method)\n",
    "\n",
    "methods\n"
   ]
  },
  {
   "cell_type": "markdown",
   "id": "054f27b6",
   "metadata": {},
   "source": [
    "### Q3.1 - Categorizing HTTP Requests\n",
    "\n",
    "Continuing from the previous exercise, your manager now wants you to categorize each HTTP request based on its method.  \n",
    "\n",
    "- \"Safe\" methods: GET  \n",
    "- \"Modifying\" methods: POST, PUT, DELETE  \n",
    "- \"Other\" methods: anything else  \n",
    "\n",
    "Using the same list of HTTP request logs. Your task is to go through the logs and create a new list that contains the category of each request according to the rules above.\n"
   ]
  },
  {
   "cell_type": "code",
   "execution_count": 6,
   "id": "fae32649",
   "metadata": {},
   "outputs": [
    {
     "data": {
      "text/plain": [
       "['Safe',\n",
       " 'Modifying',\n",
       " 'Safe',\n",
       " 'Modifying',\n",
       " 'Modifying',\n",
       " 'Safe',\n",
       " 'Safe',\n",
       " 'Modifying',\n",
       " 'Safe',\n",
       " 'Modifying',\n",
       " 'Modifying',\n",
       " 'Safe',\n",
       " 'Safe',\n",
       " 'Modifying',\n",
       " 'Safe',\n",
       " 'Modifying',\n",
       " 'Modifying',\n",
       " 'Safe',\n",
       " 'Safe',\n",
       " 'Modifying']"
      ]
     },
     "execution_count": 6,
     "metadata": {},
     "output_type": "execute_result"
    }
   ],
   "source": [
    "# Step 1: Create an empty list for the final results\n",
    "request_categories = []\n",
    "\n",
    "# Step 2: Loop through each HTTP request\n",
    "for request in http_requests:\n",
    "    method = request[\"method\"]\n",
    "    \n",
    "    # Step 3: Categorize the method using a chained if-elif-else statement\n",
    "    if method == \"GET\":\n",
    "        category = \"Safe\"\n",
    "    elif method in [\"POST\", \"PUT\", \"DELETE\"]:\n",
    "        category = \"Modifying\"\n",
    "    else:\n",
    "        category = \"Other\"\n",
    "    \n",
    "    # Step 4: Append the category to the result list\n",
    "    request_categories.append(category)\n",
    "\n",
    "request_categories"
   ]
  },
  {
   "cell_type": "markdown",
   "id": "9cd9e66c",
   "metadata": {},
   "source": [
    "## Q4 - Cleaning a Mixed-Type Dataset\n",
    "\n",
    "You work as a junior data analyst for an e-commerce company. Your team collected a list of product prices from multiple sources, but the data is messy: some entries are numbers (int or float), and some are strings like \"N/A\" or \"unknown\".  \n",
    "\n",
    "Your manager wants you to create a clean list that contains only the numeric prices.  \n",
    "\n",
    "You have a list of 25 product prices. Your task is to go through the list, check the type of each element, and add only the numeric values to a new list.\n",
    "\n",
    "Hint: use the built-in function is `isinstance()` to check if the prices are numbers.\n"
   ]
  },
  {
   "cell_type": "code",
   "execution_count": 7,
   "id": "212cdc8b",
   "metadata": {},
   "outputs": [
    {
     "data": {
      "text/plain": [
       "[29.99,\n",
       " 15,\n",
       " 49.5,\n",
       " 0,\n",
       " 120,\n",
       " 9.99,\n",
       " 35,\n",
       " 50,\n",
       " 19.5,\n",
       " 25,\n",
       " 60,\n",
       " 70.5,\n",
       " 5,\n",
       " 12.75,\n",
       " 30,\n",
       " 8,\n",
       " 100]"
      ]
     },
     "execution_count": 7,
     "metadata": {},
     "output_type": "execute_result"
    }
   ],
   "source": [
    "# List of 25 product prices (mixed types)\n",
    "product_prices = [29.99, \"N/A\", 15, 49.5, \"unknown\", 0, 120, \"sold out\", 9.99, 35, 50, \"N/A\", 19.5, 25, \"unknown\", 60, 70.5, \"N/A\", 5, 12.75, 30, \"sold out\", 8, 100, \"N/A\"]\n",
    "\n",
    "# Step 1: Create an empty list for the final results\n",
    "clean_prices = []\n",
    "\n",
    "# Step 2: Loop through each price\n",
    "for price in product_prices:\n",
    "    # Step 3: Use isinstance to check if the price is a number\n",
    "    if isinstance(price, (int, float)):\n",
    "        # Step 4: Append numeric prices to the result list\n",
    "        clean_prices.append(price)\n",
    "\n",
    "clean_prices\n"
   ]
  },
  {
   "cell_type": "markdown",
   "id": "e6c6c344",
   "metadata": {},
   "source": [
    "## Q5 - Extracting Data from Server Logs\n",
    "\n",
    "You work as a junior backend developer analyzing server logs. Each log entry is stored as a tuple containing three elements: `(timestamp, URL, status_code)`.  \n",
    "\n",
    "Your manager wants a list of messages summarizing each request in the format:\n",
    "\n",
    "```python\n",
    "f\"At {timestamp}, the request to {URL} returned status {status_code}.\"\n",
    "```\n",
    "\n",
    "You have 20 log entries. Your task is to go through each tuple, unpack it into meaningful variables, and create the summary messages.  \n",
    "\n",
    "#### What is Tuple Unpacking?\n",
    "\n",
    "Tuple unpacking is a way to assign each element of a tuple to a separate variable in a single step. This is very useful when you have structured data like logs, coordinates, or any collection of fixed-size tuples.  \n",
    "\n",
    "**Syntax in a loop:**\n",
    "\n",
    "```python\n",
    "for element in list_of_tuples:\n",
    "    var1, var2, var3 = element\n",
    "```\n",
    "\n",
    "Here, `var1` will get the first item of the tuple, `var2` the second, and `var3` the third. This lets you work directly with meaningful variable names instead of indexing each element manually (`element[0]`, `element[1]`, etc.).\n"
   ]
  },
  {
   "cell_type": "code",
   "execution_count": 8,
   "id": "913a05ca",
   "metadata": {},
   "outputs": [
    {
     "data": {
      "text/plain": [
       "['At 2025-10-22T08:01:00, the request to /home returned status 200.',\n",
       " 'At 2025-10-22T08:02:00, the request to /login returned status 401.',\n",
       " 'At 2025-10-22T08:03:00, the request to /dashboard returned status 200.',\n",
       " 'At 2025-10-22T08:04:00, the request to /profile returned status 403.',\n",
       " 'At 2025-10-22T08:05:00, the request to /logout returned status 200.',\n",
       " 'At 2025-10-22T08:06:00, the request to /settings returned status 500.',\n",
       " 'At 2025-10-22T08:07:00, the request to /home returned status 200.',\n",
       " 'At 2025-10-22T08:08:00, the request to /login returned status 401.',\n",
       " 'At 2025-10-22T08:09:00, the request to /dashboard returned status 200.',\n",
       " 'At 2025-10-22T08:10:00, the request to /profile returned status 403.',\n",
       " 'At 2025-10-22T08:11:00, the request to /logout returned status 200.',\n",
       " 'At 2025-10-22T08:12:00, the request to /settings returned status 500.',\n",
       " 'At 2025-10-22T08:13:00, the request to /home returned status 200.',\n",
       " 'At 2025-10-22T08:14:00, the request to /login returned status 401.',\n",
       " 'At 2025-10-22T08:15:00, the request to /dashboard returned status 200.',\n",
       " 'At 2025-10-22T08:16:00, the request to /profile returned status 403.',\n",
       " 'At 2025-10-22T08:17:00, the request to /logout returned status 200.',\n",
       " 'At 2025-10-22T08:18:00, the request to /settings returned status 500.',\n",
       " 'At 2025-10-22T08:19:00, the request to /home returned status 200.',\n",
       " 'At 2025-10-22T08:20:00, the request to /login returned status 401.']"
      ]
     },
     "execution_count": 8,
     "metadata": {},
     "output_type": "execute_result"
    }
   ],
   "source": [
    "\n",
    "# List of 20 server log tuples\n",
    "server_logs = [\n",
    "    (\"2025-10-22T08:01:00\", \"/home\", 200),\n",
    "    (\"2025-10-22T08:02:00\", \"/login\", 401),\n",
    "    (\"2025-10-22T08:03:00\", \"/dashboard\", 200),\n",
    "    (\"2025-10-22T08:04:00\", \"/profile\", 403),\n",
    "    (\"2025-10-22T08:05:00\", \"/logout\", 200),\n",
    "    (\"2025-10-22T08:06:00\", \"/settings\", 500),\n",
    "    (\"2025-10-22T08:07:00\", \"/home\", 200),\n",
    "    (\"2025-10-22T08:08:00\", \"/login\", 401),\n",
    "    (\"2025-10-22T08:09:00\", \"/dashboard\", 200),\n",
    "    (\"2025-10-22T08:10:00\", \"/profile\", 403),\n",
    "    (\"2025-10-22T08:11:00\", \"/logout\", 200),\n",
    "    (\"2025-10-22T08:12:00\", \"/settings\", 500),\n",
    "    (\"2025-10-22T08:13:00\", \"/home\", 200),\n",
    "    (\"2025-10-22T08:14:00\", \"/login\", 401),\n",
    "    (\"2025-10-22T08:15:00\", \"/dashboard\", 200),\n",
    "    (\"2025-10-22T08:16:00\", \"/profile\", 403),\n",
    "    (\"2025-10-22T08:17:00\", \"/logout\", 200),\n",
    "    (\"2025-10-22T08:18:00\", \"/settings\", 500),\n",
    "    (\"2025-10-22T08:19:00\", \"/home\", 200),\n",
    "    (\"2025-10-22T08:20:00\", \"/login\", 401)\n",
    "]\n",
    "\n",
    "# Step 1: Create an empty list for the final results\n",
    "log_messages = []\n",
    "\n",
    "# Step 2: Loop through each log entry\n",
    "for timestamp, url, status in server_logs:  # <-- tuple unpacking in the loop\n",
    "    # Step 3: Create the summary message\n",
    "    message = f\"At {timestamp}, the request to {url} returned status {status}.\"\n",
    "    # Step 4: Append the message to the result list\n",
    "    log_messages.append(message)\n",
    "\n",
    "log_messages\n"
   ]
  },
  {
   "cell_type": "markdown",
   "id": "393fdce5",
   "metadata": {},
   "source": [
    "## Q6 - Flagging Special Orders\n",
    "\n",
    "You work as a junior data analyst for an online store. The store receives a list of orders, and each order is represented as a dictionary with the following keys: `\"order_id\"`, `\"amount\"`, and `\"priority\"`.  \n",
    "\n",
    "Your manager wants you to flag orders that meet either of these conditions:  \n",
    "1. The amount is greater than 100 **or** the order is marked as `\"priority\"`.  \n",
    "2. The amount is less than 10 **and** the order is marked as `\"priority\"`.  \n",
    "\n",
    "Your task is to go through the list of orders and create a new list of `order_id`s that meet **any** of these conditions.\n"
   ]
  },
  {
   "cell_type": "code",
   "execution_count": 9,
   "id": "2d5f79f3",
   "metadata": {},
   "outputs": [
    {
     "data": {
      "text/plain": [
       "[1, 2, 4, 6, 8, 9, 11, 12, 13, 15, 17, 18, 20]"
      ]
     },
     "execution_count": 9,
     "metadata": {},
     "output_type": "execute_result"
    }
   ],
   "source": [
    "orders = [\n",
    "    {\"order_id\": 1, \"amount\": 150, \"priority\": False},\n",
    "    {\"order_id\": 2, \"amount\": 5, \"priority\": True},\n",
    "    {\"order_id\": 3, \"amount\": 75, \"priority\": False},\n",
    "    {\"order_id\": 4, \"amount\": 200, \"priority\": True},\n",
    "    {\"order_id\": 5, \"amount\": 8, \"priority\": False},\n",
    "    {\"order_id\": 6, \"amount\": 12, \"priority\": True},\n",
    "    {\"order_id\": 7, \"amount\": 50, \"priority\": False},\n",
    "    {\"order_id\": 8, \"amount\": 110, \"priority\": False},\n",
    "    {\"order_id\": 9, \"amount\": 9, \"priority\": True},\n",
    "    {\"order_id\": 10, \"amount\": 20, \"priority\": False},\n",
    "    {\"order_id\": 11, \"amount\": 5, \"priority\": True},\n",
    "    {\"order_id\": 12, \"amount\": 300, \"priority\": False},\n",
    "    {\"order_id\": 13, \"amount\": 15, \"priority\": True},\n",
    "    {\"order_id\": 14, \"amount\": 7, \"priority\": False},\n",
    "    {\"order_id\": 15, \"amount\": 120, \"priority\": True},\n",
    "    {\"order_id\": 16, \"amount\": 9, \"priority\": False},\n",
    "    {\"order_id\": 17, \"amount\": 200, \"priority\": False},\n",
    "    {\"order_id\": 18, \"amount\": 3, \"priority\": True},\n",
    "    {\"order_id\": 19, \"amount\": 60, \"priority\": False},\n",
    "    {\"order_id\": 20, \"amount\": 8, \"priority\": True}\n",
    "]\n",
    "\n",
    "# Step 1: Create an empty list for the final results\n",
    "special_orders = []\n",
    "\n",
    "# Step 2: Loop through each order\n",
    "for order in orders:\n",
    "    amount = order[\"amount\"]\n",
    "    priority = order[\"priority\"]\n",
    "    \n",
    "    # Step 3: Use and/or in the if statement to check the conditions\n",
    "    if (amount > 100 or priority) or (amount < 10 and priority):\n",
    "        # Step 4: Append the order_id to the result list\n",
    "        special_orders.append(order[\"order_id\"])\n",
    "\n",
    "special_orders\n"
   ]
  },
  {
   "cell_type": "markdown",
   "id": "7b17e011",
   "metadata": {},
   "source": [
    "# Q7 - Cleaning Customer Feedback\n",
    "\n",
    "You work as a junior data analyst for a product company. The team collects customer feedback from multiple sources, but the feedback is messy: some have extra spaces, inconsistent capitalization, or unnecessary punctuation.  \n",
    "\n",
    "You have a list of 20 customer feedback strings. Your task is to create a cleaned version of each feedback string by:  \n",
    "1. Removing leading and trailing spaces.  \n",
    "2. Converting all letters to lowercase.  \n",
    "3. Replacing exclamation marks `!` with a period `.`.  \n",
    "\n",
    "Create a new list containing the cleaned feedback strings.\n",
    "\n",
    "Hint: You will need to make use of three different string methods to clean the feedback. One for trailing whitspaces, one to replace charcters, one to lowercase characters."
   ]
  },
  {
   "cell_type": "code",
   "execution_count": 10,
   "id": "465572ff",
   "metadata": {},
   "outputs": [
    {
     "data": {
      "text/plain": [
       "['i love this product.',\n",
       " 'not satisfied.',\n",
       " 'excellent service.',\n",
       " 'could be better.',\n",
       " 'amazing experience.',\n",
       " 'bad quality.',\n",
       " 'will buy again.',\n",
       " 'terrible support.',\n",
       " 'highly recommend.',\n",
       " 'okay product.',\n",
       " 'very happy.',\n",
       " 'disappointed.',\n",
       " 'five stars.',\n",
       " 'needs improvement.',\n",
       " 'awesome.',\n",
       " 'poor packaging.',\n",
       " 'good value.',\n",
       " 'not worth it.',\n",
       " 'perfect.',\n",
       " 'mediocre experience.']"
      ]
     },
     "execution_count": 10,
     "metadata": {},
     "output_type": "execute_result"
    }
   ],
   "source": [
    "# List of 20 customer feedback strings\n",
    "feedbacks = [\n",
    "    \"  I LOVE this product!  \",\n",
    "    \"Not satisfied! \",\n",
    "    \"Excellent service! \",\n",
    "    \" could be better. \",\n",
    "    \"Amazing experience! \",\n",
    "    \"Bad quality! \",\n",
    "    \" Will buy again! \",\n",
    "    \"Terrible support! \",\n",
    "    \"Highly recommend! \",\n",
    "    \" okay product. \",\n",
    "    \"Very happy! \",\n",
    "    \" Disappointed! \",\n",
    "    \"Five stars! \",\n",
    "    \"Needs improvement! \",\n",
    "    \"Awesome! \",\n",
    "    \"poor packaging! \",\n",
    "    \"Good value! \",\n",
    "    \"Not worth it! \",\n",
    "    \"Perfect! \",\n",
    "    \"Mediocre experience! \"\n",
    "]\n",
    "\n",
    "# Step 1: Create an empty list for the final results\n",
    "cleaned_feedbacks = []\n",
    "\n",
    "# Step 2: Loop through each feedback\n",
    "for feedback in feedbacks:\n",
    "    # Step 3: Clean the string using string methods\n",
    "    clean = feedback.strip().lower().replace(\"!\", \".\")\n",
    "    # Step 4: Append the cleaned string to the result list\n",
    "    cleaned_feedbacks.append(clean)\n",
    "\n",
    "cleaned_feedbacks\n"
   ]
  },
  {
   "cell_type": "markdown",
   "id": "f64958a8",
   "metadata": {},
   "source": [
    "## Q8 - Identifying Important Support Tickets\n",
    "\n",
    "You work as a junior data analyst for a tech support team. The team receives dozens of support tickets daily. Each ticket is represented as a dictionary with `\"ticket_id\"`, `\"priority\"`, and `\"message\"`.  \n",
    "\n",
    "Your manager wants you to identify tickets that are **urgent** according to these rules:  \n",
    "\n",
    "1. Tickets marked as `\"high\"` priority are always urgent.  \n",
    "2. Tickets marked as `\"medium\"` priority are urgent **only if** the message contains the words `\"error\"` or `\"fail\"` (case insensitive).  \n",
    "3. Tickets marked as `\"low\"` are never urgent.  \n",
    "\n",
    "Your task is to create a list of `ticket_id`s that are considered urgent.\n"
   ]
  },
  {
   "cell_type": "code",
   "execution_count": 11,
   "id": "0441b1aa",
   "metadata": {},
   "outputs": [
    {
     "data": {
      "text/plain": [
       "[1, 2, 4, 5, 8, 9, 12, 13, 15, 17, 19, 20]"
      ]
     },
     "execution_count": 11,
     "metadata": {},
     "output_type": "execute_result"
    }
   ],
   "source": [
    "\n",
    "tickets = [\n",
    "    {\"ticket_id\": 1, \"priority\": \"high\", \"message\": \"System down!\"},\n",
    "    {\"ticket_id\": 2, \"priority\": \"medium\", \"message\": \"Login error encountered.\"},\n",
    "    {\"ticket_id\": 3, \"priority\": \"low\", \"message\": \"Request for feature.\"},\n",
    "    {\"ticket_id\": 4, \"priority\": \"medium\", \"message\": \"Failed to load dashboard.\"},\n",
    "    {\"ticket_id\": 5, \"priority\": \"high\", \"message\": \"Server crash!\"},\n",
    "    {\"ticket_id\": 6, \"priority\": \"low\", \"message\": \"Minor UI issue.\"},\n",
    "    {\"ticket_id\": 7, \"priority\": \"medium\", \"message\": \"Unable to submit form.\"},\n",
    "    {\"ticket_id\": 8, \"priority\": \"high\", \"message\": \"Database error!\"},\n",
    "    {\"ticket_id\": 9, \"priority\": \"medium\", \"message\": \"Payment failed.\"},\n",
    "    {\"ticket_id\": 10, \"priority\": \"low\", \"message\": \"General inquiry.\"},\n",
    "    {\"ticket_id\": 11, \"priority\": \"medium\", \"message\": \"Page not loading.\"},\n",
    "    {\"ticket_id\": 12, \"priority\": \"high\", \"message\": \"Critical bug found!\"},\n",
    "    {\"ticket_id\": 13, \"priority\": \"medium\", \"message\": \"Error in report generation.\"},\n",
    "    {\"ticket_id\": 14, \"priority\": \"low\", \"message\": \"Request for documentation.\"},\n",
    "    {\"ticket_id\": 15, \"priority\": \"high\", \"message\": \"Security breach!\"},\n",
    "    {\"ticket_id\": 16, \"priority\": \"medium\", \"message\": \"Login works fine.\"},\n",
    "    {\"ticket_id\": 17, \"priority\": \"medium\", \"message\": \"Fail to export data.\"},\n",
    "    {\"ticket_id\": 18, \"priority\": \"low\", \"message\": \"Feedback on UI.\"},\n",
    "    {\"ticket_id\": 19, \"priority\": \"medium\", \"message\": \"Error: Cannot save settings.\"},\n",
    "    {\"ticket_id\": 20, \"priority\": \"high\", \"message\": \"Server overheating!\"}\n",
    "]\n",
    "\n",
    "# Step 1: Create an empty list for the final results\n",
    "urgent_tickets = []\n",
    "\n",
    "# Step 2: Loop through each ticket\n",
    "for ticket in tickets:\n",
    "    priority = ticket[\"priority\"]\n",
    "    message = ticket[\"message\"].lower()  # Step 3a: make message lowercase for comparison\n",
    "    \n",
    "    # Step 3b: Determine if the ticket is urgent\n",
    "    if priority == \"high\":\n",
    "        urgent_tickets.append(ticket[\"ticket_id\"])\n",
    "    elif priority == \"medium\" and (\"error\" in message or \"fail\" in message):\n",
    "        urgent_tickets.append(ticket[\"ticket_id\"])\n",
    "    # low priority tickets are never urgent, so no else needed\n",
    "\n",
    "# Step 4: Result list contains ticket_ids of urgent tickets\n",
    "urgent_tickets"
   ]
  },
  {
   "cell_type": "code",
   "execution_count": null,
   "id": "95fbf96f",
   "metadata": {},
   "outputs": [],
   "source": []
  }
 ],
 "metadata": {
  "kernelspec": {
   "display_name": "base",
   "language": "python",
   "name": "python3"
  },
  "language_info": {
   "codemirror_mode": {
    "name": "ipython",
    "version": 3
   },
   "file_extension": ".py",
   "mimetype": "text/x-python",
   "name": "python",
   "nbconvert_exporter": "python",
   "pygments_lexer": "ipython3",
   "version": "3.13.5"
  }
 },
 "nbformat": 4,
 "nbformat_minor": 5
}
