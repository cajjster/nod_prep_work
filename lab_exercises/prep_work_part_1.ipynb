{
 "cells": [
  {
   "cell_type": "markdown",
   "id": "d414d45f-3b9c-4bfe-85e0-47a90fd798f5",
   "metadata": {},
   "source": [
    "<img align=\"right\" src=\"https://iili.io/2FquTQ4.png\" alt=\"2FquTQ4.png\" border=\"0\" style=\"height:45px\" style=\"width:15px\"/>\n",
    "\n",
    "# Prep-Week Exercises for Nod Coding Bootcamp - Part 1 🚀\n",
    "\n",
    "##### During this part of the preparation work you will work with variables, data types, lists and dictionaries.\n",
    "##### Try to work through the excercises without using ChatGPT.\n",
    "\n",
    "##### Good Luck with the exercises! 🌟"
   ]
  },
  {
   "cell_type": "markdown",
   "id": "8bd1c2a8-e255-40e7-9585-da719547d983",
   "metadata": {},
   "source": [
    "# Part 1 | Variables"
   ]
  },
  {
   "cell_type": "markdown",
   "id": "be928091-e68b-43ea-b5e4-49c4d2dfc61e",
   "metadata": {},
   "source": [
    "### 🧠 Understanding Variables in Python\n",
    "\n",
    "A **variable** is a name that stores a value in your program’s memory — like a label on a box that tells you what’s inside.  \n",
    "Instead of repeating values directly, we store them in variables to make our code easier to read, update, and reuse.\n",
    "\n",
    "\n",
    "### 💡 What Is a Variable?\n",
    "\n",
    "Think of a variable as a container that holds data.  \n",
    "You can give it a name and assign it a value.  \n",
    "Once stored, you can reuse that value anywhere in your program.\n",
    "\n",
    "For example:  \n",
    "- A variable might store a number\n",
    "- A piece of text\n",
    "- Or even the result of a calculation\n",
    "\n",
    "```python\n",
    "my_name = \"Lisa\"\n",
    "age = 25\n",
    "total = price * quantity\n",
    "```\n",
    "\n",
    "\n",
    "### 🏷️ Variable Names (Identifiers)\n",
    "\n",
    "When naming variables, follow these simple rules:\n",
    "- Variable names should by convention be snake cased in python, meaning all lowercase letters and whitespaces are replaced with underscores. For example, `snake_cased`.\n",
    "- Names can include **letters**, **numbers**, and **underscores**.\n",
    "- They **must start with a letter or underscore**, not a number.\n",
    "- Python is **case-sensitive**, so `Name` and `name` are different.\n",
    "- Choose **meaningful names** that describe the data they hold, like `height_meters` instead of `h`.\n",
    "\n",
    "\n",
    "### 🔄 Reassigning Variables\n",
    "\n",
    "You can change a variable’s value anytime, the new value simply replaces the old one.  \n",
    "This flexibility is what makes variables powerful and dynamic in Python.\n",
    "\n",
    "\n",
    "### 🧩 Why Variables Matter\n",
    "\n",
    "Variables make your programs:\n",
    "- **Readable** – others can understand what your code is doing.  \n",
    "- **Maintainable** – you can change one variable instead of many occurrences of the same value.  \n",
    "- **Reusable** – you can use the same logic with different data.\n",
    "\n"
   ]
  },
  {
   "cell_type": "markdown",
   "id": "c6053e52-0834-4652-803b-61796d3d9576",
   "metadata": {},
   "source": [
    "### 1.1 Creating Variables"
   ]
  },
  {
   "cell_type": "markdown",
   "id": "c9138bd7-e66b-4a4a-8b99-83e47bfa76f7",
   "metadata": {},
   "source": [
    "#### 1.1.1 Create a variable called my_name and assign your own name to it"
   ]
  },
  {
   "cell_type": "code",
   "execution_count": null,
   "id": "bded5d22-3884-4023-9582-28ae7e15d244",
   "metadata": {},
   "outputs": [],
   "source": [
    "# Code here \n"
   ]
  },
  {
   "cell_type": "markdown",
   "id": "22cb6c68-6586-460f-b62e-b6cc21819f5b",
   "metadata": {},
   "source": [
    "#### 1.1.2 Create a variable called my_age and assign your age to it "
   ]
  },
  {
   "cell_type": "code",
   "execution_count": null,
   "id": "9d911c79-b0a4-4b69-bad4-1c4cc7f28e89",
   "metadata": {},
   "outputs": [],
   "source": [
    "# Code here \n"
   ]
  },
  {
   "cell_type": "markdown",
   "id": "39a1844e-4a8b-466d-820d-c7e088cec8c8",
   "metadata": {},
   "source": [
    "#### 1.1.3 Use the print() function to display your new variables"
   ]
  },
  {
   "cell_type": "code",
   "execution_count": null,
   "id": "581b63ee-1ce7-4fd0-b824-53a109662e5c",
   "metadata": {},
   "outputs": [],
   "source": [
    "# Code here\n"
   ]
  },
  {
   "cell_type": "markdown",
   "id": "15ac5456-50b2-411b-a9f3-c76bf834249a",
   "metadata": {},
   "source": [
    "#### 1.1.4 Print a full sentence saying \n",
    "\n",
    "```python\n",
    "\"Hello my name is ___ and I am ___ years old\"\n",
    "```"
   ]
  },
  {
   "cell_type": "code",
   "execution_count": null,
   "id": "1615b914-72f2-4921-8e63-ade39cb3e6f4",
   "metadata": {},
   "outputs": [],
   "source": [
    "# Code here\n"
   ]
  },
  {
   "cell_type": "code",
   "execution_count": null,
   "id": "e87aacb6-5b0b-4598-bb99-fdf59a9dc5ad",
   "metadata": {},
   "outputs": [],
   "source": [
    "# Now try the same using an f-string!"
   ]
  },
  {
   "cell_type": "code",
   "execution_count": null,
   "id": "f57229c4-e8c7-4daa-8270-5016da78308e",
   "metadata": {},
   "outputs": [],
   "source": []
  },
  {
   "cell_type": "markdown",
   "id": "f17266e6-09bd-4118-9b8e-85760c4b6d04",
   "metadata": {},
   "source": [
    "### 1.2 Updating variables"
   ]
  },
  {
   "cell_type": "markdown",
   "id": "988545ee-e377-4872-95cc-8800aee76c3c",
   "metadata": {},
   "source": [
    "#### 1.2.1 Create variable called fave_food and assign it to a dish you like"
   ]
  },
  {
   "cell_type": "code",
   "execution_count": null,
   "id": "eb90024e-af21-491e-8610-9911da719e8a",
   "metadata": {},
   "outputs": [],
   "source": [
    "# Code here"
   ]
  },
  {
   "cell_type": "code",
   "execution_count": null,
   "id": "30e649f1-a8b8-4f46-a184-854540e77ea3",
   "metadata": {},
   "outputs": [],
   "source": []
  },
  {
   "cell_type": "markdown",
   "id": "48381f5a-6a02-4a66-bcfc-8df66c79a39f",
   "metadata": {},
   "source": [
    "#### 1.2.2 Print the variable"
   ]
  },
  {
   "cell_type": "code",
   "execution_count": null,
   "id": "d11637ea-6976-4e21-8c59-f0233f8d137e",
   "metadata": {},
   "outputs": [],
   "source": [
    "# Code here"
   ]
  },
  {
   "cell_type": "code",
   "execution_count": null,
   "id": "03484362-e18f-476a-a5e8-1c273f7cf30d",
   "metadata": {},
   "outputs": [],
   "source": []
  },
  {
   "cell_type": "markdown",
   "id": "482c6d44-e88c-4b03-b396-a99eea4b01bb",
   "metadata": {},
   "source": [
    "#### 1.2.3 Now update fave_food to another dish that you like"
   ]
  },
  {
   "cell_type": "code",
   "execution_count": null,
   "id": "7e9873fa-0de3-404e-8a54-347e3e097536",
   "metadata": {},
   "outputs": [],
   "source": [
    "# Code here"
   ]
  },
  {
   "cell_type": "code",
   "execution_count": null,
   "id": "37ab8dc4-f1fc-4e71-bd73-190532b0380f",
   "metadata": {},
   "outputs": [],
   "source": []
  },
  {
   "cell_type": "markdown",
   "id": "cc31a915-f7f8-4da7-a737-cacf3dbe4c76",
   "metadata": {},
   "source": [
    "#### 1.2.4 Print fave_food again"
   ]
  },
  {
   "cell_type": "code",
   "execution_count": null,
   "id": "0c8da0e0-ad51-41ff-ab7f-4f7dac4fa5d4",
   "metadata": {},
   "outputs": [],
   "source": [
    "# Code here"
   ]
  },
  {
   "cell_type": "code",
   "execution_count": null,
   "id": "f3ae59a4-cc6f-4f53-91e0-81f583ba2338",
   "metadata": {},
   "outputs": [],
   "source": []
  },
  {
   "cell_type": "markdown",
   "id": "049d9590-b88f-4284-aae0-bc77d14abeed",
   "metadata": {},
   "source": [
    "### 1.3 Run the cell, what will be printed? Why?"
   ]
  },
  {
   "cell_type": "code",
   "execution_count": null,
   "id": "828f28d6-d6f9-47d3-beb5-af739964ec74",
   "metadata": {},
   "outputs": [],
   "source": [
    "# x = 5\n",
    "# x = 10\n",
    "# print(x)"
   ]
  },
  {
   "cell_type": "code",
   "execution_count": null,
   "id": "949fd6c6-abdc-4676-89bb-d1fb314d7524",
   "metadata": {},
   "outputs": [],
   "source": [
    "# Write your answer here"
   ]
  },
  {
   "cell_type": "markdown",
   "id": "e831ffaa-24d1-41ab-8a5a-239a85941b51",
   "metadata": {},
   "source": [
    "### 1.4 Run the cell, what will be printed? Why?"
   ]
  },
  {
   "cell_type": "code",
   "execution_count": null,
   "id": "271737dc-f4a1-42c4-b3aa-348e10eb3fd1",
   "metadata": {},
   "outputs": [],
   "source": [
    "# a = 10\n",
    "# b = a\n",
    "# print(b)"
   ]
  },
  {
   "cell_type": "code",
   "execution_count": null,
   "id": "572f7e0a-9574-4dd3-be7d-6ff7e63c9ff4",
   "metadata": {},
   "outputs": [],
   "source": [
    "# Write your answer here"
   ]
  },
  {
   "cell_type": "markdown",
   "id": "6c3e3d0e-d0d4-4368-8fba-ee71b8f2e4be",
   "metadata": {},
   "source": [
    "### 1.5 Which of these are valid variable names in Python?\n",
    "\n",
    "`my-name`\n",
    "\n",
    "`super cool`\n",
    "\n",
    "`fave_food`\n",
    "\n",
    "`age`\n",
    "\n",
    "`print`\n",
    "\n"
   ]
  },
  {
   "cell_type": "code",
   "execution_count": null,
   "id": "a5219a40-feb1-4803-a591-34b7aac9bb31",
   "metadata": {},
   "outputs": [],
   "source": [
    "# Write your answer here"
   ]
  },
  {
   "cell_type": "markdown",
   "id": "fb5a36f6-1fb1-489d-a24c-0e6840830488",
   "metadata": {},
   "source": [
    "### 1.6 Run the cell and read the error message. Fix the code so it returns the correct output!"
   ]
  },
  {
   "cell_type": "code",
   "execution_count": null,
   "id": "2301f173-656c-4791-a5ca-df4cec4172f9",
   "metadata": {},
   "outputs": [],
   "source": [
    "# Run the cell\n",
    "\n",
    "# my_name = \"Lisa'\n",
    "# print(\"Hello, my name is\" my_name)"
   ]
  },
  {
   "cell_type": "markdown",
   "id": "2c94631d-8afc-4433-bcce-65451c734faa",
   "metadata": {},
   "source": [
    "### Reflection:\n",
    "##### 1. What is a variable?\n",
    "##### 2. Can a variable change after it’s been created?\n",
    "##### 3. What happens when you use a variable inside print()?"
   ]
  },
  {
   "cell_type": "code",
   "execution_count": null,
   "id": "712d038d-d485-4e44-af90-ad9d91c7ca0a",
   "metadata": {},
   "outputs": [],
   "source": [
    "# Answer here:"
   ]
  },
  {
   "cell_type": "markdown",
   "id": "c0b83829-95ee-4f18-bd62-fe079ba34dba",
   "metadata": {},
   "source": [
    "# Part 2 | Data Types"
   ]
  },
  {
   "cell_type": "markdown",
   "id": "58445d92-ebf4-4342-a08c-531e2f51e5c1",
   "metadata": {},
   "source": [
    "### ✨ What is a Data Type?\n",
    "##### A data type is the kind of value a variable holds. \n",
    "##### Imagine data types like different kinds of ingredients in a recipe — some are words, some are numbers, and some are True/False statements.\n",
    "\n",
    "##### Different data types:\n",
    "\n",
    "`str`: Text\n",
    "\n",
    "`int`: A whole number\n",
    "\n",
    "`float`: A decimal number\n",
    "\n",
    "`bool`:\tTrue/False"
   ]
  },
  {
   "cell_type": "markdown",
   "id": "b8ce8bd3-48a0-4d96-b782-d6c6c2fe7e4a",
   "metadata": {},
   "source": [
    "### 2.1 Identify the correct data type"
   ]
  },
  {
   "cell_type": "markdown",
   "id": "7ff4b188-324e-4aa9-88aa-645f76d9e344",
   "metadata": {},
   "source": [
    "#### 2.1.1 Look at the values below. Try to guess their data types by writing a comment next to each one:"
   ]
  },
  {
   "cell_type": "code",
   "execution_count": null,
   "id": "33ee98f2-5312-4ab7-9e93-2bfe330c81e8",
   "metadata": {},
   "outputs": [],
   "source": [
    "# \"Banana\"  --> your guess:\n",
    "# 42        --> your guess:\n",
    "# 3.14      --> your guess:\n",
    "# False     --> your guess:\n",
    "# \"True\"    --> your guess:"
   ]
  },
  {
   "cell_type": "markdown",
   "id": "f7aa495f-c2b7-43e7-a2a1-463f6e6d295a",
   "metadata": {},
   "source": [
    "#### 2.1.2 Use the type() function to check your answers"
   ]
  },
  {
   "cell_type": "code",
   "execution_count": null,
   "id": "e88ae552-15ef-4dfd-99bd-e08224cc8dcd",
   "metadata": {},
   "outputs": [],
   "source": [
    "# Code here"
   ]
  },
  {
   "cell_type": "code",
   "execution_count": null,
   "id": "75f4f05c-660f-4e16-a792-fb689c62dd04",
   "metadata": {},
   "outputs": [],
   "source": []
  },
  {
   "cell_type": "markdown",
   "id": "9e335e63-5a87-4eb4-9fef-41267ef462ca",
   "metadata": {},
   "source": [
    "### 2.2 Create your own variables with different data types"
   ]
  },
  {
   "cell_type": "markdown",
   "id": "351dce7d-4057-4be1-b09e-3209ad687e28",
   "metadata": {},
   "source": [
    "#### 2.2.1 Create following variables:\n",
    "`movie_title`, `release_year`, `rating` and `is_favourite`\n",
    "\n",
    "Use different data types for each variable. Use the `type()` function to check that they have the correct format (string, integer, float or boolean)"
   ]
  },
  {
   "cell_type": "code",
   "execution_count": null,
   "id": "27d14f28-071b-4290-9126-c8ac0f84a44f",
   "metadata": {},
   "outputs": [],
   "source": [
    "# Code here"
   ]
  },
  {
   "cell_type": "code",
   "execution_count": null,
   "id": "3172c838-fde0-41ca-b5de-4a4f12d3cd2c",
   "metadata": {},
   "outputs": [],
   "source": []
  },
  {
   "cell_type": "markdown",
   "id": "0277d5c8-0271-4bda-80cf-5fe7f0d45d32",
   "metadata": {},
   "source": [
    "#### 2.2.2 Use your variables to print the following sentence: \n",
    "```python\n",
    "\"The movies ___ was released in ___ and has a rating of ___ . Is this my favourite movie? ___ \"\n",
    "```"
   ]
  },
  {
   "cell_type": "code",
   "execution_count": null,
   "id": "72d7be8a-31f9-47cd-88db-44e420f7bbfe",
   "metadata": {},
   "outputs": [],
   "source": [
    "# Code here"
   ]
  },
  {
   "cell_type": "code",
   "execution_count": null,
   "id": "6aa77ed2-0654-46b5-982a-73fefdae426c",
   "metadata": {},
   "outputs": [],
   "source": []
  },
  {
   "cell_type": "code",
   "execution_count": null,
   "id": "d69e704d-0675-4e24-a7eb-8328cee363b8",
   "metadata": {},
   "outputs": [],
   "source": [
    "# Now try the same using an f-string!"
   ]
  },
  {
   "cell_type": "code",
   "execution_count": null,
   "id": "17aef62a-e7d7-49ad-8be2-00de23bea7a5",
   "metadata": {},
   "outputs": [],
   "source": []
  },
  {
   "cell_type": "markdown",
   "id": "f5a45a76-52d6-408d-a299-995cfc3275c3",
   "metadata": {},
   "source": [
    "### 2.3 Integers and Floats\n",
    "\n",
    "##### Python can be used just like a calculator! You can do basic math directly in your code. \n",
    "##### You can also store numbers in variables and perform the calculations with your new variables: \n",
    "\n",
    "```python\n",
    "a = 10\n",
    "b = 5\n",
    "\n",
    "a + b = c\n",
    "\n",
    "print(c)\n",
    "\n",
    "15"
   ]
  },
  {
   "cell_type": "markdown",
   "id": "a006b026-6908-4838-8cfa-827f446f40db",
   "metadata": {},
   "source": [
    "#### 2.3.1 Run the cell below, is the answer an integer or float?"
   ]
  },
  {
   "cell_type": "code",
   "execution_count": null,
   "id": "506043f8-8d60-463c-8ba2-c2bcc6092606",
   "metadata": {},
   "outputs": [],
   "source": [
    "# 2 + 10"
   ]
  },
  {
   "cell_type": "markdown",
   "id": "a0ebe1cb-08a9-4c9a-b1cd-590970ef51e1",
   "metadata": {},
   "source": [
    "#### 2.3.2 Run the cell below, is the answer an integer or float?"
   ]
  },
  {
   "cell_type": "code",
   "execution_count": null,
   "id": "bd6ed606-1665-47ac-a0ce-b0088825c1a3",
   "metadata": {},
   "outputs": [],
   "source": [
    "# 2 + 10.1"
   ]
  },
  {
   "cell_type": "markdown",
   "id": "5470aa54-4a5f-4868-82fe-a179be78847d",
   "metadata": {},
   "source": [
    "#### 2.3.3 Create two variables with integers, and add them together."
   ]
  },
  {
   "cell_type": "code",
   "execution_count": null,
   "id": "fc5a9a21-2d8c-4226-84ab-b6ed261c68fe",
   "metadata": {},
   "outputs": [],
   "source": [
    "# Code here\n",
    "\n",
    "# a = \n",
    "# b = "
   ]
  },
  {
   "cell_type": "code",
   "execution_count": null,
   "id": "0e5351cd-8310-4904-a558-6b3f90e197e5",
   "metadata": {},
   "outputs": [],
   "source": []
  },
  {
   "cell_type": "markdown",
   "id": "2fc590d8-ce6d-4e13-a72f-e76be693d887",
   "metadata": {},
   "source": [
    "#### 2.3.4 Create two variables with floats, and subtract a from b."
   ]
  },
  {
   "cell_type": "code",
   "execution_count": null,
   "id": "39bd8136-9841-44e5-9c9d-fb26904a9d6a",
   "metadata": {},
   "outputs": [],
   "source": [
    "# Code here"
   ]
  },
  {
   "cell_type": "code",
   "execution_count": null,
   "id": "24ef6fbc-7b7e-43b2-9225-9da77382ce09",
   "metadata": {},
   "outputs": [],
   "source": []
  },
  {
   "cell_type": "markdown",
   "id": "725a8bae-f440-4b30-a717-c250801395bf",
   "metadata": {},
   "source": [
    "#### 2.3.4 Create two variables, integer or float, and multiply them."
   ]
  },
  {
   "cell_type": "code",
   "execution_count": null,
   "id": "0d05e3d6-ea23-44e8-bec1-57528e4e0076",
   "metadata": {},
   "outputs": [],
   "source": [
    "# Code here"
   ]
  },
  {
   "cell_type": "code",
   "execution_count": null,
   "id": "fce02953-a79a-4cdd-917b-ba76beba4656",
   "metadata": {},
   "outputs": [],
   "source": []
  },
  {
   "cell_type": "markdown",
   "id": "44828572-43fc-4a1d-a420-35f9d3f1eddd",
   "metadata": {},
   "source": [
    "#### 2.3.5 Create two variables with floats and divide a with b."
   ]
  },
  {
   "cell_type": "code",
   "execution_count": null,
   "id": "3863eacd-9249-46ec-9dc3-a804bb9c7142",
   "metadata": {},
   "outputs": [],
   "source": [
    "# Code here "
   ]
  },
  {
   "cell_type": "code",
   "execution_count": null,
   "id": "142d6a39-e8c6-41a0-8c9b-1418bc4fe01c",
   "metadata": {},
   "outputs": [],
   "source": []
  },
  {
   "cell_type": "markdown",
   "id": "44967c92-8f63-4659-ad8d-2d00c32bdcbb",
   "metadata": {},
   "source": [
    "##### 2.3.5.1 What happens when you divide two integers? What’s the result’s data type?"
   ]
  },
  {
   "cell_type": "code",
   "execution_count": null,
   "id": "081fb083-f5bb-4094-82bf-03dc045f5507",
   "metadata": {},
   "outputs": [],
   "source": [
    "# Answer here: "
   ]
  },
  {
   "cell_type": "code",
   "execution_count": null,
   "id": "d0c3e850-3edc-4071-9a40-abf896427120",
   "metadata": {},
   "outputs": [],
   "source": []
  },
  {
   "cell_type": "markdown",
   "id": "5170e033-14fd-43dd-ab48-96f23f8d7512",
   "metadata": {},
   "source": [
    "### 2.4 Strings"
   ]
  },
  {
   "cell_type": "markdown",
   "id": "6a64211a-e0d4-4ac5-a320-365f1c550efc",
   "metadata": {},
   "source": [
    "#### 2.4.1 Create a variable with your favourite quote, make it's a string"
   ]
  },
  {
   "cell_type": "code",
   "execution_count": 55,
   "id": "f0dd25c8-fce2-4e7b-a09b-461c897a0269",
   "metadata": {},
   "outputs": [],
   "source": [
    "# Code here\n",
    "\n",
    "# quote = "
   ]
  },
  {
   "cell_type": "code",
   "execution_count": 64,
   "id": "ef700677-7afe-43ba-aa06-d976d4dd5b89",
   "metadata": {},
   "outputs": [],
   "source": []
  },
  {
   "cell_type": "markdown",
   "id": "d672fd99-44e4-40e8-983b-72f077c141be",
   "metadata": {},
   "source": [
    "#### 2.4.2 Create a new variable with another quote"
   ]
  },
  {
   "cell_type": "code",
   "execution_count": 72,
   "id": "6f63dc53-a8ca-4658-a85f-75d4b26708c6",
   "metadata": {},
   "outputs": [],
   "source": [
    "# Code here\n"
   ]
  },
  {
   "cell_type": "markdown",
   "id": "a2358436-8348-48be-a7d9-d57e60d4f6f8",
   "metadata": {},
   "source": [
    "#### 2.4.3 Add the quotes together and store the result to a new variable"
   ]
  },
  {
   "cell_type": "code",
   "execution_count": null,
   "id": "7802c47a-a4d2-4f34-b354-da0d43c4b851",
   "metadata": {},
   "outputs": [],
   "source": [
    "# Code here"
   ]
  },
  {
   "cell_type": "code",
   "execution_count": null,
   "id": "85f203a3-0fc6-458f-8fcd-be3537c34d76",
   "metadata": {},
   "outputs": [],
   "source": []
  },
  {
   "cell_type": "markdown",
   "id": "4b368b4f-d60d-4883-b60c-8ea9987e9fbf",
   "metadata": {},
   "source": [
    "### 2.5 Numbers and strings"
   ]
  },
  {
   "cell_type": "markdown",
   "id": "603d9888-3e86-44b0-a04d-6b5b41182a1d",
   "metadata": {},
   "source": [
    "#### 2.5.1 What will happen if you run the cell below? Write your answer and then try to run the cell."
   ]
  },
  {
   "cell_type": "code",
   "execution_count": null,
   "id": "50618d39-d1a0-4269-b3b3-099a1f490abf",
   "metadata": {},
   "outputs": [],
   "source": [
    "# age = \"25\"\n",
    "# print(age + 5)"
   ]
  },
  {
   "cell_type": "code",
   "execution_count": null,
   "id": "c356e80a-c11c-4e72-a93d-29ff7a8f6af4",
   "metadata": {},
   "outputs": [],
   "source": [
    "# Answer here"
   ]
  },
  {
   "cell_type": "markdown",
   "id": "47b44e75-decf-4048-8d62-716a6329acd5",
   "metadata": {},
   "source": [
    "#### 2.5.2 Fix the code by converting the age variable to an integer! "
   ]
  },
  {
   "cell_type": "code",
   "execution_count": null,
   "id": "78e9c72d-4749-4728-8272-082d89f4b2d7",
   "metadata": {},
   "outputs": [],
   "source": [
    "# Code here"
   ]
  },
  {
   "cell_type": "markdown",
   "id": "91c6ded5-1379-43a0-b76f-3c70b931b84a",
   "metadata": {},
   "source": [
    "#### 2.5.3 What do you think will happen for each print statement? Write your answer and then run the cell."
   ]
  },
  {
   "cell_type": "code",
   "execution_count": null,
   "id": "957290dd-d893-472f-9f68-03c169144021",
   "metadata": {},
   "outputs": [],
   "source": [
    "# print(\"Age: \" + 25)              # guess:\n",
    "# print(\"Age: \" + str(25))         # guess:\n",
    "# print(\"3.0 is a float:\", 3.0)    # guess:"
   ]
  },
  {
   "cell_type": "markdown",
   "id": "578edd58-a800-4968-a4a7-70f4a9cb75a9",
   "metadata": {},
   "source": [
    "##### 2.5.3.1 Fix the code so all print statements work."
   ]
  },
  {
   "cell_type": "code",
   "execution_count": null,
   "id": "aabe6291-8d9f-4538-a184-ef59a0ddcfb2",
   "metadata": {},
   "outputs": [],
   "source": [
    "# Code here "
   ]
  },
  {
   "cell_type": "code",
   "execution_count": null,
   "id": "ade05c6c-319b-4e7a-837d-3c9b5858d4d8",
   "metadata": {},
   "outputs": [],
   "source": []
  },
  {
   "cell_type": "markdown",
   "id": "dcfcae50-e567-41f0-9ced-7d48234273c6",
   "metadata": {},
   "source": [
    "### Reflection\n",
    "##### 1. What is the difference between a string and a boolean?\n",
    "##### 2. What happens when you try to mix strings and numbers in print()?\n",
    "##### 3. What does type() help you with?"
   ]
  },
  {
   "cell_type": "code",
   "execution_count": null,
   "id": "d58bf72e-07a6-4696-add2-14d57943cb6f",
   "metadata": {},
   "outputs": [],
   "source": [
    "# Write your answers here:"
   ]
  },
  {
   "cell_type": "markdown",
   "id": "230299e1-44f8-4db6-9a9c-e3fad3d59c9a",
   "metadata": {},
   "source": [
    "# Part 3 | Lists"
   ]
  },
  {
   "cell_type": "markdown",
   "id": "2aafb85d-13df-4b70-92d2-f58c2308eacc",
   "metadata": {},
   "source": [
    "### ✨ What is a List?\n",
    "##### A list is a way to store multiple values in one place. It’s like a row of boxes, each holding something: a number, a word, or even another list!\n",
    "\n",
    "##### You create a list using square brackets [] and separate items with commas:\n",
    "```python\n",
    "fruits = [\"apple\", \"orange\", \"strawberry\"]\n",
    "``` "
   ]
  },
  {
   "cell_type": "markdown",
   "id": "b34ac34a-1fa7-4b11-8900-f9c8e7c2f881",
   "metadata": {},
   "source": [
    "### 3.1 Create a list called weekdays and add the days of the week to it. "
   ]
  },
  {
   "cell_type": "code",
   "execution_count": null,
   "id": "c13c3fa5-9bbb-43e8-83a7-c60919a56b9b",
   "metadata": {},
   "outputs": [],
   "source": [
    "# Code here\n",
    "\n",
    "# weekdays = "
   ]
  },
  {
   "cell_type": "code",
   "execution_count": null,
   "id": "84f7f827-c041-4f6b-bf31-fc1af42c98b1",
   "metadata": {},
   "outputs": [],
   "source": []
  },
  {
   "cell_type": "markdown",
   "id": "32b2ff7d-a4fa-4c27-97cf-da5012375385",
   "metadata": {},
   "source": [
    "#### 3.1.1 Print your list:"
   ]
  },
  {
   "cell_type": "code",
   "execution_count": null,
   "id": "11d19578-6d12-41b1-a702-8631f5157df9",
   "metadata": {},
   "outputs": [],
   "source": [
    "# Code here"
   ]
  },
  {
   "cell_type": "code",
   "execution_count": null,
   "id": "50d10eec-6973-4837-94de-4c750636dad1",
   "metadata": {},
   "outputs": [],
   "source": []
  },
  {
   "cell_type": "markdown",
   "id": "5d13117d-4f63-457d-9551-5ae59272e050",
   "metadata": {},
   "source": [
    "#### 3.1.2 Make sure the length of your list is equal to 7"
   ]
  },
  {
   "cell_type": "code",
   "execution_count": null,
   "id": "ae293507-c498-4c35-8dd5-e26b80169766",
   "metadata": {},
   "outputs": [],
   "source": [
    "# Code here"
   ]
  },
  {
   "cell_type": "code",
   "execution_count": null,
   "id": "94bc2b1b-d8c5-4106-856f-893673ad00ee",
   "metadata": {},
   "outputs": [],
   "source": []
  },
  {
   "cell_type": "markdown",
   "id": "d1dc8d95-9285-4816-9307-749c7e4829ab",
   "metadata": {},
   "source": [
    "### 3.2 Create a new list that contains one string, one integer, one float and one boolean"
   ]
  },
  {
   "cell_type": "code",
   "execution_count": null,
   "id": "dbdf5f6e-6d4f-4317-b7b1-834486b3e7f8",
   "metadata": {},
   "outputs": [],
   "source": [
    "# Code here"
   ]
  },
  {
   "cell_type": "code",
   "execution_count": null,
   "id": "075a959c-69e4-48b1-b9b7-936befe23b9c",
   "metadata": {},
   "outputs": [],
   "source": []
  },
  {
   "cell_type": "markdown",
   "id": "b9424167-fcaf-483f-94d2-1c6a6b0e96e8",
   "metadata": {},
   "source": [
    "#### 3.2.1 Print your list:"
   ]
  },
  {
   "cell_type": "code",
   "execution_count": null,
   "id": "31403f50-b15f-486d-bd7d-da17d57581e7",
   "metadata": {},
   "outputs": [],
   "source": [
    "# Code here"
   ]
  },
  {
   "cell_type": "code",
   "execution_count": null,
   "id": "272d5c6b-9e5e-4660-b337-2e84f85eaa22",
   "metadata": {},
   "outputs": [],
   "source": []
  },
  {
   "cell_type": "markdown",
   "id": "61b5af40-ff2a-46ae-86a0-34a4e6df0a02",
   "metadata": {},
   "source": [
    "#### 3.2.2 Check the length of your list"
   ]
  },
  {
   "cell_type": "code",
   "execution_count": null,
   "id": "57b06cde-76db-44a4-a87f-322f395ca592",
   "metadata": {},
   "outputs": [],
   "source": [
    "# Code here"
   ]
  },
  {
   "cell_type": "code",
   "execution_count": null,
   "id": "a15ac650-f7ad-49c0-8582-990f5203717e",
   "metadata": {},
   "outputs": [],
   "source": []
  },
  {
   "cell_type": "markdown",
   "id": "bb1b3005-8178-4051-840a-6ed7440163cd",
   "metadata": {},
   "source": [
    "#### 3.2.3 Add a new item to the list using the append() function"
   ]
  },
  {
   "cell_type": "code",
   "execution_count": null,
   "id": "0361c390-c12f-4bf0-a8a3-f11dd4dd8994",
   "metadata": {},
   "outputs": [],
   "source": [
    "# Code here"
   ]
  },
  {
   "cell_type": "code",
   "execution_count": null,
   "id": "0fd9eaa7-ec82-4f10-a851-7eb00e82f9b6",
   "metadata": {},
   "outputs": [],
   "source": []
  },
  {
   "cell_type": "markdown",
   "id": "a0459063-8a14-46fc-a9a1-d4f32b05fddf",
   "metadata": {},
   "source": [
    "#### 3.2.4 Check the length of your list again"
   ]
  },
  {
   "cell_type": "code",
   "execution_count": null,
   "id": "c33744fb-199a-4d0d-8fc2-b9a0df125064",
   "metadata": {},
   "outputs": [],
   "source": [
    "# Code here"
   ]
  },
  {
   "cell_type": "code",
   "execution_count": null,
   "id": "fdf2acd3-fa0d-41b8-82b8-60f5c144e02a",
   "metadata": {},
   "outputs": [],
   "source": []
  },
  {
   "cell_type": "markdown",
   "id": "4d9c1340-ef17-4281-a9d9-dcdac9c695ce",
   "metadata": {},
   "source": [
    "### 3.3 Indexing\n",
    "##### In Python, lists start counting from 0. In order to get the first item in a list you write: `list_name[0]`"
   ]
  },
  {
   "cell_type": "markdown",
   "id": "7dc12db5-3095-4ccf-993c-aeb27b6a6711",
   "metadata": {},
   "source": [
    "#### 3.3.1 Get the first element (Monday) from weekdays"
   ]
  },
  {
   "cell_type": "code",
   "execution_count": null,
   "id": "4feaecb8-89dd-4998-9fbc-9d03cd6b41ed",
   "metadata": {},
   "outputs": [],
   "source": [
    "# Code here"
   ]
  },
  {
   "cell_type": "code",
   "execution_count": null,
   "id": "1813e37b-0583-4a53-aadf-9b11d6cbdcde",
   "metadata": {},
   "outputs": [],
   "source": []
  },
  {
   "cell_type": "markdown",
   "id": "2dcc9b65-5bc1-4afe-a8de-0e9f5866a5a5",
   "metadata": {},
   "source": [
    "#### 3.3.2 Get Wednesday from weekdays"
   ]
  },
  {
   "cell_type": "code",
   "execution_count": null,
   "id": "8214f71d-23a6-4f63-a264-35ac93cd280d",
   "metadata": {},
   "outputs": [],
   "source": [
    "# Code here"
   ]
  },
  {
   "cell_type": "code",
   "execution_count": null,
   "id": "5865c831-c2a5-43d0-adcf-4da80c500bca",
   "metadata": {},
   "outputs": [],
   "source": []
  },
  {
   "cell_type": "markdown",
   "id": "13d91749-3e5b-495b-929c-c6a335196a53",
   "metadata": {},
   "source": [
    "#### 3.3.3 Use two different ways to grab Sunday from the list"
   ]
  },
  {
   "cell_type": "code",
   "execution_count": null,
   "id": "39fb42f1-eff0-4f0d-9523-524b78074997",
   "metadata": {},
   "outputs": [],
   "source": [
    "# Code here"
   ]
  },
  {
   "cell_type": "code",
   "execution_count": null,
   "id": "e944b436-9a91-4317-a0f4-fd5cf381a6b6",
   "metadata": {},
   "outputs": [],
   "source": []
  },
  {
   "cell_type": "markdown",
   "id": "bfd16c19-6e3e-4c4c-a1a3-8a4456da4277",
   "metadata": {},
   "source": [
    "#### 3.3.4 Grab Thursdag and Friday from the list by slicing the list"
   ]
  },
  {
   "cell_type": "code",
   "execution_count": null,
   "id": "5e54b174-da31-4e75-8d11-0002ae9a250c",
   "metadata": {},
   "outputs": [],
   "source": []
  },
  {
   "cell_type": "markdown",
   "id": "043ad684-9b7f-475c-adeb-4230883b6af1",
   "metadata": {},
   "source": [
    "#### 3.3.5 What happens if you run `weekdays[8]`?"
   ]
  },
  {
   "cell_type": "code",
   "execution_count": null,
   "id": "5eeb6c35-032f-4b62-b47d-0d2427e8e41b",
   "metadata": {},
   "outputs": [],
   "source": [
    "# Answer here: "
   ]
  },
  {
   "cell_type": "code",
   "execution_count": null,
   "id": "c6680e8a-c190-44aa-a478-f07aea74dd01",
   "metadata": {},
   "outputs": [],
   "source": []
  },
  {
   "cell_type": "markdown",
   "id": "330843b0-eb63-4c9d-9190-78942948c21e",
   "metadata": {},
   "source": [
    "#### 3.3.6 Change the last element of the list (Sunday) to Funday"
   ]
  },
  {
   "cell_type": "code",
   "execution_count": null,
   "id": "9b72de1a-b2d2-477f-b9a1-f093a8783435",
   "metadata": {},
   "outputs": [],
   "source": [
    "# Code here"
   ]
  },
  {
   "cell_type": "code",
   "execution_count": null,
   "id": "9829303b-6ce3-421f-a9b1-786ff33def9f",
   "metadata": {},
   "outputs": [],
   "source": []
  },
  {
   "cell_type": "code",
   "execution_count": null,
   "id": "2a460b59-55c0-4877-b367-6ddf1846e438",
   "metadata": {},
   "outputs": [],
   "source": []
  },
  {
   "cell_type": "markdown",
   "id": "fe7ad4d5-b8df-41b5-8387-1e16fb4b1f62",
   "metadata": {},
   "source": [
    "### Reflection\n",
    "##### 1. What is the index number of the first item in any list?\n",
    "##### 2. Can a list contain more than one data type?"
   ]
  },
  {
   "cell_type": "code",
   "execution_count": null,
   "id": "43dbe957-000a-4bc4-bc03-e32668e3957b",
   "metadata": {},
   "outputs": [],
   "source": [
    "# Answer here"
   ]
  },
  {
   "cell_type": "code",
   "execution_count": null,
   "id": "b412cda8-54fe-4294-9d1d-23856526bb74",
   "metadata": {},
   "outputs": [],
   "source": []
  },
  {
   "cell_type": "markdown",
   "id": "b671bcab-ddb1-4bb7-acfb-5cc904a5e3ee",
   "metadata": {},
   "source": [
    "# Part 4 | Dictionaries"
   ]
  },
  {
   "cell_type": "markdown",
   "id": "b620007f-8d6e-4794-893f-c4a23c6b510b",
   "metadata": {},
   "source": [
    "### ✨ What is a Dictionary?\n",
    "##### A dictionary in Python is a way to store information in key-value pairs. It's like a mini-database where each piece of data has a label. \n",
    "\n",
    "##### Example of a dictionary:\n",
    "```python\n",
    "dictionary = {\n",
    "    \"key\": \"value\"\n",
    "}\n",
    "\n",
    "book = {\n",
    "    \"title\": \"Harry Potter and the Philosopher's Stone\",\n",
    "    \"author\": \"J. K. Rowling\",\n",
    "    \"year_released\": 1997\n",
    "}\n",
    "```"
   ]
  },
  {
   "cell_type": "markdown",
   "id": "7335fec1-fc5f-411b-8863-01b358d40bf1",
   "metadata": {},
   "source": [
    "### 4.1 Create a dictionary called `student` with the following keys:\n",
    "- \"name\": your name\n",
    "- \"age\": your age\n",
    "- \"city\": where you live"
   ]
  },
  {
   "cell_type": "code",
   "execution_count": null,
   "id": "90d8d31d-e90a-4221-87c9-2e9b08b5589a",
   "metadata": {},
   "outputs": [],
   "source": [
    "# Code here\n",
    "\n",
    "# student = {}"
   ]
  },
  {
   "cell_type": "markdown",
   "id": "069e8d69-79c9-4fc3-a38e-78d77b3aadd7",
   "metadata": {},
   "source": [
    "#### 4.1.1 Print your dictionary"
   ]
  },
  {
   "cell_type": "code",
   "execution_count": null,
   "id": "b52d4080-5196-4bbe-b27e-970dbe281e4c",
   "metadata": {},
   "outputs": [],
   "source": [
    "# Code here"
   ]
  },
  {
   "cell_type": "code",
   "execution_count": null,
   "id": "8c30ade5-3646-48e8-9911-99e2aea187ce",
   "metadata": {},
   "outputs": [],
   "source": []
  },
  {
   "cell_type": "markdown",
   "id": "b971f1ba-b60d-41c1-9123-693e2b9274c0",
   "metadata": {},
   "source": [
    "#### 4.1.2 Use the key \"name\" to acess your name"
   ]
  },
  {
   "cell_type": "code",
   "execution_count": null,
   "id": "33e8d42d-be9c-4540-9867-c29d330521b7",
   "metadata": {},
   "outputs": [],
   "source": [
    "# Code here"
   ]
  },
  {
   "cell_type": "code",
   "execution_count": null,
   "id": "ec6e7b1f-1250-47ea-aa44-b2572b1af726",
   "metadata": {},
   "outputs": [],
   "source": []
  },
  {
   "cell_type": "markdown",
   "id": "d02f095f-6ca6-4982-b3f6-f75f8600d373",
   "metadata": {},
   "source": [
    "#### 4.1.3 Add a key to the dictionary called favourite_colour and add your favourite colour to the dictionary"
   ]
  },
  {
   "cell_type": "code",
   "execution_count": null,
   "id": "93f70ee8-2018-4a99-8021-365fc4269231",
   "metadata": {},
   "outputs": [],
   "source": [
    "# Code here"
   ]
  },
  {
   "cell_type": "code",
   "execution_count": null,
   "id": "d2e133f5-2cfb-4023-ba47-bd2354fd4d85",
   "metadata": {},
   "outputs": [],
   "source": []
  },
  {
   "cell_type": "markdown",
   "id": "91742c18-9087-431b-91a5-01c5d87f4a9a",
   "metadata": {},
   "source": [
    "#### 4.1.4 Use the function `.pop()` to remove favourite_colour from the dictionary"
   ]
  },
  {
   "cell_type": "code",
   "execution_count": null,
   "id": "301612fc-a415-4f2c-b99f-f9c6bc7ef95d",
   "metadata": {},
   "outputs": [],
   "source": [
    "# Code here"
   ]
  },
  {
   "cell_type": "code",
   "execution_count": null,
   "id": "156a6e59-00dc-4191-8efd-ab5925f247a6",
   "metadata": {},
   "outputs": [],
   "source": []
  },
  {
   "cell_type": "markdown",
   "id": "382c3a8c-48c7-4a06-9c4c-a3dfa96e061c",
   "metadata": {},
   "source": [
    "#### 4.1.5 Use `.keys()` to print all the keys in the dictionary"
   ]
  },
  {
   "cell_type": "code",
   "execution_count": null,
   "id": "22f956dd-d2ea-4caf-800b-78aa31947634",
   "metadata": {},
   "outputs": [],
   "source": [
    "# Code here"
   ]
  },
  {
   "cell_type": "code",
   "execution_count": null,
   "id": "0abf270d-a858-48be-aa8e-dce1051a459a",
   "metadata": {},
   "outputs": [],
   "source": []
  },
  {
   "cell_type": "markdown",
   "id": "ef7a1500-e9de-4bf2-89f6-81bdef68c5f9",
   "metadata": {},
   "source": [
    "#### 4.1.6 Use `.values()` to print all the values in the dictionary"
   ]
  },
  {
   "cell_type": "code",
   "execution_count": null,
   "id": "df392944-bc1d-47fc-847d-48cbc0c31a28",
   "metadata": {},
   "outputs": [],
   "source": [
    "# Code here"
   ]
  },
  {
   "cell_type": "code",
   "execution_count": null,
   "id": "fb8f5971-dab5-4ec9-be48-7d823d770f0c",
   "metadata": {},
   "outputs": [],
   "source": []
  },
  {
   "cell_type": "markdown",
   "id": "79278a1a-2ccf-474f-835e-eafea1a9f088",
   "metadata": {},
   "source": [
    "### 4.2 Dictionary with a list"
   ]
  },
  {
   "cell_type": "markdown",
   "id": "f0a6a4c2-1bf7-41bf-9b9f-cdc42976913d",
   "metadata": {},
   "source": [
    "#### 4.2.1 Run the cell below and print the dictionary"
   ]
  },
  {
   "cell_type": "code",
   "execution_count": null,
   "id": "5300ff42-0b0f-4410-8255-1720861c7e72",
   "metadata": {},
   "outputs": [],
   "source": [
    "road_trip = {\n",
    "    \"country\": \"Italy\",\n",
    "    \"cities\": [\"Rome\", \"Florence\", \"Venice\"]\n",
    "}"
   ]
  },
  {
   "cell_type": "code",
   "execution_count": null,
   "id": "863a37ee-0ed7-4c84-9afa-74871187d78d",
   "metadata": {},
   "outputs": [],
   "source": [
    "# Code here"
   ]
  },
  {
   "cell_type": "markdown",
   "id": "1e382d58-0c6d-40b5-8f93-39bf42749dba",
   "metadata": {},
   "source": [
    "#### 4.2.2 Get the keys from the dictionary"
   ]
  },
  {
   "cell_type": "code",
   "execution_count": null,
   "id": "3225b5a8-1586-4eae-b253-0e2f09f24e00",
   "metadata": {},
   "outputs": [],
   "source": [
    "# Code here"
   ]
  },
  {
   "cell_type": "code",
   "execution_count": null,
   "id": "efcb1f85-1aa9-4716-a2e0-25e7efe60fd6",
   "metadata": {},
   "outputs": [],
   "source": []
  },
  {
   "cell_type": "markdown",
   "id": "fcfc483e-9fd3-40a8-b5c9-84d1ac00ec3f",
   "metadata": {},
   "source": [
    "#### 4.2.3 Get the values from the dictionary"
   ]
  },
  {
   "cell_type": "code",
   "execution_count": null,
   "id": "deef6e50-fb6f-40c8-b39d-93bc22863e7b",
   "metadata": {},
   "outputs": [],
   "source": [
    "# Code here"
   ]
  },
  {
   "cell_type": "code",
   "execution_count": null,
   "id": "d5f3157c-61d1-4212-9c1d-6da834fc9d28",
   "metadata": {},
   "outputs": [],
   "source": []
  },
  {
   "cell_type": "markdown",
   "id": "82501411-f889-4ff9-8512-c550772e73bd",
   "metadata": {},
   "source": [
    "#### 4.2.4 Grab Florence from the dictionary"
   ]
  },
  {
   "cell_type": "code",
   "execution_count": null,
   "id": "8a88f0c6-46a5-4ed9-9b08-242692bfe98c",
   "metadata": {},
   "outputs": [],
   "source": [
    "# Code here"
   ]
  },
  {
   "cell_type": "code",
   "execution_count": null,
   "id": "81bd73e8-d057-4e87-aa54-66cbe38f9029",
   "metadata": {},
   "outputs": [],
   "source": []
  },
  {
   "cell_type": "markdown",
   "id": "a68bc514-5231-4581-bdab-6dfd2d5b772a",
   "metadata": {},
   "source": [
    "### Reflection\n",
    "##### 1. What symbols are used to define a dictionary?\n",
    "##### 2. What does .pop() do?\n",
    "##### 3. What will happen if you try to access a key that doesn’t exist?"
   ]
  },
  {
   "cell_type": "code",
   "execution_count": null,
   "id": "e42b4df7-d175-4536-bdba-2dd1749cb60c",
   "metadata": {},
   "outputs": [],
   "source": [
    "# Answer here:"
   ]
  },
  {
   "cell_type": "code",
   "execution_count": null,
   "id": "804b595b-b6fe-4e65-98c6-0e4d08ddbfea",
   "metadata": {},
   "outputs": [],
   "source": []
  },
  {
   "cell_type": "markdown",
   "id": "2734e3fd-0d3e-4fb0-ae8c-5a4c29c9956e",
   "metadata": {},
   "source": [
    "# Great Job! First part of the prep-work is done 🚀"
   ]
  }
 ],
 "metadata": {
  "kernelspec": {
   "display_name": "base",
   "language": "python",
   "name": "python3"
  },
  "language_info": {
   "codemirror_mode": {
    "name": "ipython",
    "version": 3
   },
   "file_extension": ".py",
   "mimetype": "text/x-python",
   "name": "python",
   "nbconvert_exporter": "python",
   "pygments_lexer": "ipython3",
   "version": "3.13.5"
  }
 },
 "nbformat": 4,
 "nbformat_minor": 5
}
