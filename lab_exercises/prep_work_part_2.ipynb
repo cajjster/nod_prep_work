{
 "cells": [
  {
   "cell_type": "markdown",
   "id": "3b0235e9-e3da-4832-a24b-f51c7f894255",
   "metadata": {},
   "source": [
    "<img align=\"right\" src=\"https://iili.io/2FquTQ4.png\" alt=\"2FquTQ4.png\" border=\"0\" style=\"height:45px\" style=\"width:15px\"/>\n",
    "\n",
    "# Prep-Week Exercises for Nod Coding Bootcamp - Part 2 🚀\n",
    "\n",
    "##### During this part of the preparation work you will work with if statements and control flow, for loops and while loops.\n",
    "##### Try to work through the excercises without using ChatGPT.\n",
    "##### Good Luck with the exercises! 🌟"
   ]
  },
  {
   "cell_type": "markdown",
   "id": "c399f641-dd94-449a-a4b1-f24c1c350dd0",
   "metadata": {},
   "source": [
    "# Part 1 | If Statements\n",
    "\n",
    "##### ✨ What is an if statement?\n",
    "An if statement lets Python make a decision.\n",
    "\n",
    "You use it to tell Python:\n",
    "\"Only run this code if something is true.\" The part after if is called a condition. If the condition is true, the code below it runs."
   ]
  },
  {
   "cell_type": "markdown",
   "id": "950a138b-30c7-4549-9e94-208ab0f708d8",
   "metadata": {},
   "source": [
    "### 1.1 Simple if statements"
   ]
  },
  {
   "cell_type": "markdown",
   "id": "895a9734-995a-4119-adc8-11335fdaaa35",
   "metadata": {},
   "source": [
    "#### 1.1.1 Check the age\n",
    "Run the code below "
   ]
  },
  {
   "cell_type": "code",
   "execution_count": null,
   "id": "6c375870-80d6-4c82-98fb-1aa51d665381",
   "metadata": {},
   "outputs": [],
   "source": [
    "age = 18\n",
    "\n",
    "if age >= 18:\n",
    "    print(\"You are an adult.\")"
   ]
  },
  {
   "cell_type": "code",
   "execution_count": null,
   "id": "46be4c86-6543-4e6a-bb95-f386c08b10f4",
   "metadata": {},
   "outputs": [],
   "source": []
  },
  {
   "cell_type": "markdown",
   "id": "4760bbc5-9faa-4b7b-a210-182cc616a696",
   "metadata": {},
   "source": [
    "#### 1.1.2 Change the age variable to something younger than 18 and run the code again"
   ]
  },
  {
   "cell_type": "code",
   "execution_count": null,
   "id": "2c87e526-8cf5-42ad-abe7-e76960a5da47",
   "metadata": {},
   "outputs": [],
   "source": [
    "age = \n",
    "\n",
    "if age >= 18:\n",
    "    print(\"You are an adult.\")"
   ]
  },
  {
   "cell_type": "code",
   "execution_count": null,
   "id": "4a33831e-f520-4177-a092-f3f2ca1a940a",
   "metadata": {},
   "outputs": [],
   "source": []
  },
  {
   "cell_type": "markdown",
   "id": "d2bf0181-4d12-4bf1-860f-dbff9f13a06b",
   "metadata": {},
   "source": [
    "#### 1.1.3 Check the temperature \n",
    "- Create a variable called temperature and set it to 5. \n",
    "- Then write an if statement that prints \"It's cold!\" if the temperature is less than 10."
   ]
  },
  {
   "cell_type": "code",
   "execution_count": null,
   "id": "996c3998-bfbc-485f-bb19-e699b96d9316",
   "metadata": {},
   "outputs": [],
   "source": [
    "# Code here"
   ]
  },
  {
   "cell_type": "code",
   "execution_count": null,
   "id": "c6eac456-91fd-4fbe-9f7f-1a7475207c29",
   "metadata": {},
   "outputs": [],
   "source": []
  },
  {
   "cell_type": "markdown",
   "id": "eeecdb76-06a9-433c-9d51-96a21ad1092a",
   "metadata": {},
   "source": [
    "### 1.2 If and else\n",
    "We can add an else to the statement that runs if the if-statement is not true."
   ]
  },
  {
   "cell_type": "markdown",
   "id": "fa0348c0-7524-4e0a-a0d8-d969f327769b",
   "metadata": {},
   "source": [
    "#### 1.2.1 Age check with else statement\n",
    "Run the code below"
   ]
  },
  {
   "cell_type": "code",
   "execution_count": null,
   "id": "f0bf3329-119d-42ca-85aa-d15b6a974af7",
   "metadata": {},
   "outputs": [],
   "source": [
    "age = 16\n",
    "\n",
    "if age >= 18:\n",
    "    print(\"You can vote.\")\n",
    "else:\n",
    "    print(\"You are too young to vote.\")"
   ]
  },
  {
   "cell_type": "code",
   "execution_count": null,
   "id": "1ca70b17-a3e8-4d14-a110-988e0507f57f",
   "metadata": {},
   "outputs": [],
   "source": []
  },
  {
   "cell_type": "markdown",
   "id": "3e5cca6a-d885-490f-bf21-7a7cddb4b8be",
   "metadata": {},
   "source": [
    "#### 1.2.2 Change the age variable to something older than 18 and run the code again"
   ]
  },
  {
   "cell_type": "code",
   "execution_count": null,
   "id": "39820529-38f8-4542-bf14-68a3af2db2d8",
   "metadata": {},
   "outputs": [],
   "source": [
    "age = \n",
    "\n",
    "if age >= 18:\n",
    "    print(\"You can vote.\")\n",
    "else:\n",
    "    print(\"You are too young to vote.\")"
   ]
  },
  {
   "cell_type": "code",
   "execution_count": null,
   "id": "1e744442-faec-4a79-b940-e3f47b612f49",
   "metadata": {},
   "outputs": [],
   "source": []
  },
  {
   "cell_type": "markdown",
   "id": "4ba7f653-7b6b-4c28-9d4b-e1d8bdcec857",
   "metadata": {},
   "source": [
    "#### 1.2.3 Door bouncer \n",
    "- Create a variable called age and set it to 20.\n",
    "- Then write an if-else statement that checks if a person is older than 18. If that's true, print \"Person is adult and allowed to enter the club\".\n",
    "- If the age is below 18, the statement should print \"Person younger than 18 and is not allowed to enter\".\n",
    "- Play around with a younger age as well to make sure your code works as intended! "
   ]
  },
  {
   "cell_type": "code",
   "execution_count": null,
   "id": "59ee8256-56b5-42b0-b6e8-a26288da7d71",
   "metadata": {},
   "outputs": [],
   "source": [
    "# Code here"
   ]
  },
  {
   "cell_type": "code",
   "execution_count": null,
   "id": "a7f03269-df9f-4ed3-9bcb-68b775e07bbf",
   "metadata": {},
   "outputs": [],
   "source": []
  },
  {
   "cell_type": "markdown",
   "id": "1b61f7d4-2083-488e-94fa-7d5b5e724103",
   "metadata": {},
   "source": [
    "### 1.3 Elif\n",
    "Adding elif to your statement let's you check multiple conditions!"
   ]
  },
  {
   "cell_type": "markdown",
   "id": "b0739cfb-9ddd-4ce4-9f66-0152d86265ff",
   "metadata": {},
   "source": [
    "#### 1.3.1 Grade converter\n",
    "Run the code below to see what grade you end up with."
   ]
  },
  {
   "cell_type": "code",
   "execution_count": null,
   "id": "227c6c16-1c72-4c6e-8baf-21b06f35086f",
   "metadata": {},
   "outputs": [],
   "source": [
    "score = 75\n",
    "\n",
    "if score >= 90:\n",
    "    print(\"Grade: A\")\n",
    "elif score >= 80:\n",
    "    print(\"Grade: B\")\n",
    "else:\n",
    "    print(\"Keep practicing!\")"
   ]
  },
  {
   "cell_type": "code",
   "execution_count": null,
   "id": "8e2447d8-00f4-47c5-878b-3348e2ca6032",
   "metadata": {},
   "outputs": [],
   "source": []
  },
  {
   "cell_type": "markdown",
   "id": "35f54cd3-1ed1-4d29-a6f5-7b788d93ae29",
   "metadata": {},
   "source": [
    "#### 1.3.2 Add more conditions to the grade converter and play around with different scores to see what grade you get!\n",
    "- Add a elif statement to check if the grade is C and one that checks if the grade is D."
   ]
  },
  {
   "cell_type": "code",
   "execution_count": null,
   "id": "baad2bd5-872c-42ae-b21b-51f658a50e0a",
   "metadata": {},
   "outputs": [],
   "source": [
    "score = None\n",
    "\n",
    "if score >= 90:\n",
    "    print(\"Grade: A\")\n",
    "elif score >= 80:\n",
    "    print(\"Grade: B\")\n",
    "# Add code here\n",
    "else:\n",
    "    print(\"Keep practicing!\")"
   ]
  },
  {
   "cell_type": "code",
   "execution_count": null,
   "id": "cf8055e2-c1e0-4ceb-8071-784481748bf7",
   "metadata": {},
   "outputs": [],
   "source": []
  },
  {
   "cell_type": "markdown",
   "id": "fcc9cc47-2526-44ee-83ae-0314e6923fda",
   "metadata": {},
   "source": [
    "#### 1.3.3 Movie Ticket Price Checker\n",
    "1. Create a variable age and assign it any number.\n",
    "2. Write an if, elif, else statement that prints the price of the movie ticket depending on age:\n",
    "- If age is under 13, print \"Child ticket: 40 SEK\"\n",
    "- If age is between 13 and 64, print \"Adult ticket: 100 SEK\"\n",
    "- If age is 65 or older, print \"Senior ticket: 60 SEK\"\n",
    "\n",
    "3. Play around with different ages to make sure your code works as intended."
   ]
  },
  {
   "cell_type": "code",
   "execution_count": null,
   "id": "dc591470-6104-4b3c-9b96-c1c88fe796f0",
   "metadata": {},
   "outputs": [],
   "source": [
    "# Code here"
   ]
  },
  {
   "cell_type": "code",
   "execution_count": null,
   "id": "46ce82bb-8619-486e-a3ce-613eff981c66",
   "metadata": {},
   "outputs": [],
   "source": []
  },
  {
   "cell_type": "markdown",
   "id": "85a62876-ed29-464e-88e0-962e8129c405",
   "metadata": {},
   "source": [
    "### 1.4 String Comparisons\n",
    "You can also write if statements that compares strings! "
   ]
  },
  {
   "cell_type": "markdown",
   "id": "d56233c2-69d8-46be-b3e3-0b0127be8992",
   "metadata": {},
   "source": [
    "#### 1.4.1 Check if red\n",
    "Run the code below"
   ]
  },
  {
   "cell_type": "code",
   "execution_count": null,
   "id": "8a391558-2c21-4991-8e87-1a11898dc7a6",
   "metadata": {},
   "outputs": [],
   "source": [
    "color = \"red\"\n",
    "\n",
    "if color == \"red\":\n",
    "    print(\"Stop!\")"
   ]
  },
  {
   "cell_type": "markdown",
   "id": "c06a6f9d-598c-4bb4-a1eb-df7fcab21561",
   "metadata": {},
   "source": [
    "#### 1.4.2 Change the color to something else and rund the code again"
   ]
  },
  {
   "cell_type": "code",
   "execution_count": null,
   "id": "a313095d-d561-43aa-8837-d7b40e23c5c5",
   "metadata": {},
   "outputs": [],
   "source": [
    "color = None\n",
    "\n",
    "if color == \"red\":\n",
    "    print(\"Stop!\")"
   ]
  },
  {
   "cell_type": "code",
   "execution_count": null,
   "id": "bb9b6302-ab02-4315-ab23-82e247d423b6",
   "metadata": {},
   "outputs": [],
   "source": []
  },
  {
   "cell_type": "markdown",
   "id": "ea7a67ac-b41b-41f9-877b-e07ab052280c",
   "metadata": {},
   "source": [
    "#### 1.4.3 Change the variable bolor \"red\" to \"Red\", what do you think will happen?"
   ]
  },
  {
   "cell_type": "code",
   "execution_count": null,
   "id": "22102966-0f2b-46c4-9d33-20ba97c93ae6",
   "metadata": {},
   "outputs": [],
   "source": [
    "color = None\n",
    "\n",
    "if color == \"red\":\n",
    "    print(\"Stop!\")"
   ]
  },
  {
   "cell_type": "code",
   "execution_count": null,
   "id": "9db53f9c-8276-4332-846f-25574f8edb1e",
   "metadata": {},
   "outputs": [],
   "source": []
  },
  {
   "cell_type": "markdown",
   "id": "58fd7f50-6975-45ce-a950-766995e80ddc",
   "metadata": {},
   "source": [
    "#### 1.4.4 Traffic light\n",
    "Write logic for a traffic light that checks the color of the light and prints if it's okay to drive or not:\n",
    "- Green, print: \"It's okay to drive\"\n",
    "- Yellow, print: \"Slow down, it will turn red soon\"\n",
    "- Red, print: \"Stop, not allowed to drive\""
   ]
  },
  {
   "cell_type": "code",
   "execution_count": null,
   "id": "82568a6a-761e-42e7-aa3f-27d7b1c424a4",
   "metadata": {},
   "outputs": [],
   "source": [
    "# Code here"
   ]
  },
  {
   "cell_type": "code",
   "execution_count": null,
   "id": "8e7f0786-358a-479c-b253-e5bd25cf6d1e",
   "metadata": {},
   "outputs": [],
   "source": []
  },
  {
   "cell_type": "markdown",
   "id": "d6fab53d-afc4-491d-9016-ecc24188bbd6",
   "metadata": {},
   "source": [
    "### 1.5 Combine strings and numbers\n",
    "Write logic that helps you decide what to wear depending on the weather. "
   ]
  },
  {
   "cell_type": "markdown",
   "id": "8ca833a0-1fae-434f-90ff-41013c2a210f",
   "metadata": {},
   "source": [
    "#### 1.5.1 Start by creating two variables:\n",
    "1. is_raining = \"yes\"\n",
    "2. temperature = 10"
   ]
  },
  {
   "cell_type": "code",
   "execution_count": null,
   "id": "17bb9f26-fa54-49f2-9d07-66cd6dd42330",
   "metadata": {},
   "outputs": [],
   "source": [
    "# Code here"
   ]
  },
  {
   "cell_type": "code",
   "execution_count": null,
   "id": "afa7280f-dbdb-448f-bf23-e6c0cc21eb30",
   "metadata": {},
   "outputs": [],
   "source": []
  },
  {
   "cell_type": "markdown",
   "id": "f8630588-ca4b-4828-aeeb-5751748f6666",
   "metadata": {},
   "source": [
    "#### 1.5.2 Now create the logic that should include following checks:\n",
    "1. If temperature below 15, print \"Bring a jacket\"\n",
    "2. If it is raining, print \"Bring an umbrella\"\n",
    "3. If temperature is below 15 and it's raining, print \"Stay at home!\"\n",
    "4. Else print \"Have a nice day\"\n",
    "\n",
    "Play around with raining/not raining and different temperatures! "
   ]
  },
  {
   "cell_type": "code",
   "execution_count": null,
   "id": "f095c53a-72f8-44ea-b185-21b9a6b1dbfe",
   "metadata": {},
   "outputs": [],
   "source": [
    "# Code here"
   ]
  },
  {
   "cell_type": "code",
   "execution_count": null,
   "id": "13da8b8d-8254-4c92-9658-e76a92cf4aed",
   "metadata": {},
   "outputs": [],
   "source": []
  },
  {
   "cell_type": "markdown",
   "id": "a9ff4169-3497-4bbb-a4ea-3708331ae0c8",
   "metadata": {},
   "source": [
    "### Reflection:\n",
    "1.  What does an if statement do?\n",
    "2. What happens if the condition is false?\n",
    "3.  What does else do?"
   ]
  },
  {
   "cell_type": "code",
   "execution_count": null,
   "id": "bab0483d-81a2-4381-b8aa-d85f9fa04731",
   "metadata": {},
   "outputs": [],
   "source": [
    "# Answer here:"
   ]
  },
  {
   "cell_type": "code",
   "execution_count": null,
   "id": "0ffb0637-e0c7-4d58-802a-6a6d6f15cffd",
   "metadata": {},
   "outputs": [],
   "source": []
  },
  {
   "cell_type": "markdown",
   "id": "edc2d4a5-daf8-40ed-98a4-884e210f6ad1",
   "metadata": {},
   "source": [
    "# Part 2 | For Loops\n",
    "\n",
    "##### ✨ What is a for loop?\n",
    "A for loop lets Python repeat code for each item in a list (or similar collection). You can loop through any data that is iterable, like list, strings, ranges etc.\n",
    "\n",
    "Example:\n",
    "\n",
    "```python\n",
    "fruits = [\"apple\", \"banana\", \"cherry\"]\n",
    "\n",
    "for fruit in fruits:\n",
    "    print(fruit)\n",
    "\n",
    "A more generic way to write the same logic:\n",
    "for i in fruits:\n",
    "    print(i)"
   ]
  },
  {
   "cell_type": "markdown",
   "id": "b0201c7f-84e4-4416-a977-f5ab35860586",
   "metadata": {},
   "source": [
    "### 2.1 For loops and lists"
   ]
  },
  {
   "cell_type": "markdown",
   "id": "6641b02d-07ac-4086-a7e4-19155066ce93",
   "metadata": {},
   "source": [
    "#### 2.1.1 Create a for loop that prints all the days in the list Weekdays"
   ]
  },
  {
   "cell_type": "code",
   "execution_count": null,
   "id": "d5cc895b-6d9f-4c9c-a847-6f945acea062",
   "metadata": {},
   "outputs": [],
   "source": [
    "# Code here\n",
    "\n",
    "weekdays = [\"Monday\", \"Tuesday\", \"Wednesday\", \"Thursday\", \"Friday\", \"Saturday\", \"Sunday\"]"
   ]
  },
  {
   "cell_type": "code",
   "execution_count": null,
   "id": "1725575c-6686-43af-ad14-c4a9abf410e9",
   "metadata": {},
   "outputs": [],
   "source": []
  },
  {
   "cell_type": "markdown",
   "id": "cd21a8fe-dbf8-455e-a2ee-3a8510f2cdca",
   "metadata": {},
   "source": [
    "### 2.2 Loop Over a Range of Numbers"
   ]
  },
  {
   "cell_type": "markdown",
   "id": "ea425486-5cb8-4a4c-9170-68e9e2fb003e",
   "metadata": {},
   "source": [
    "#### 2.2.1 Create a for loop that prints the numbers 0-20 using the `range()` function."
   ]
  },
  {
   "cell_type": "code",
   "execution_count": null,
   "id": "b6f60a42-7c6b-41e6-81f5-b3b41a3fbc37",
   "metadata": {},
   "outputs": [],
   "source": [
    "# Code here "
   ]
  },
  {
   "cell_type": "code",
   "execution_count": null,
   "id": "c304e739-5d00-4a59-8ad5-013707f4240b",
   "metadata": {},
   "outputs": [],
   "source": []
  },
  {
   "cell_type": "markdown",
   "id": "306eb2ab-0f16-4ac7-8d17-b25ae4eaa6dc",
   "metadata": {},
   "source": [
    "#### 2.2.2 Now use the `range()` function with a for loop to print \"I am learning Python\" 10 times"
   ]
  },
  {
   "cell_type": "code",
   "execution_count": null,
   "id": "30590e32-1625-4e0c-8ea2-0bccd1885da5",
   "metadata": {},
   "outputs": [],
   "source": [
    "# Code here "
   ]
  },
  {
   "cell_type": "code",
   "execution_count": null,
   "id": "e935b828-b398-4449-9ca1-358ec4d10134",
   "metadata": {},
   "outputs": [],
   "source": []
  },
  {
   "cell_type": "markdown",
   "id": "e0dc9a39-9825-451c-b146-82a264608e2c",
   "metadata": {},
   "source": [
    "#### 2.2.3 Now use the `range()` function to print the numbers 1-10, make sure that it starts with 1 and not 0!"
   ]
  },
  {
   "cell_type": "code",
   "execution_count": null,
   "id": "f539e986-1afc-4f7d-acd5-8baa8e9745a2",
   "metadata": {},
   "outputs": [],
   "source": [
    "# Code here"
   ]
  },
  {
   "cell_type": "code",
   "execution_count": null,
   "id": "7229b5d2-8dcb-4c7e-9a84-b959f40571ac",
   "metadata": {},
   "outputs": [],
   "source": []
  },
  {
   "cell_type": "markdown",
   "id": "c2eff728-2881-4ee1-aff8-646c0f034c85",
   "metadata": {},
   "source": [
    "### 2.3 Combine for loop with if statement!\n",
    "Create a for loop that loops over `my_list` and only prints the item in the list if it is longer than 3 elements.\n",
    "\n",
    "Hint: Use the `len()` function!"
   ]
  },
  {
   "cell_type": "code",
   "execution_count": null,
   "id": "c4ec69f9-2d7a-46c0-b75b-1558b92f4a45",
   "metadata": {},
   "outputs": [],
   "source": [
    "my_list = [\"hello\", \"one\", \"bootcamp\", \"Stockholm\", \"no\", [\"Seaborn\", \"Numpy\", \"Matplotlib\", \"Pandas\"], \"bye\"]"
   ]
  },
  {
   "cell_type": "code",
   "execution_count": null,
   "id": "b2d9a820-68df-4420-aa47-af64c4af7bda",
   "metadata": {},
   "outputs": [],
   "source": [
    "# Code here"
   ]
  },
  {
   "cell_type": "code",
   "execution_count": null,
   "id": "2d42164e-e9ac-4313-b687-04de9a52ea60",
   "metadata": {},
   "outputs": [],
   "source": []
  },
  {
   "cell_type": "markdown",
   "id": "cdf028a6-8deb-4ed9-a44e-d5f2b476db01",
   "metadata": {},
   "source": [
    "### 2.4 Count words with more than 4 letters\n",
    "1. Create an empty list called long_words\n",
    "2. Use a for loop to iterate over each item in the list words\n",
    "3. If the word is longer or equal to 4 letters, add the word to the empty list\n",
    "4. Print the new list"
   ]
  },
  {
   "cell_type": "code",
   "execution_count": null,
   "id": "893c1a1f-8d49-4497-886f-48dff06791f1",
   "metadata": {},
   "outputs": [],
   "source": [
    "words = [\"python\", \"is\", \"super\", \"fun\", \"and\", \"powerful\"]"
   ]
  },
  {
   "cell_type": "code",
   "execution_count": null,
   "id": "a19b7126-877e-4bde-be77-c7ff41b40582",
   "metadata": {},
   "outputs": [],
   "source": [
    "# Code here"
   ]
  },
  {
   "cell_type": "code",
   "execution_count": null,
   "id": "d70db75e-5895-4f9e-a6f8-aa376449f893",
   "metadata": {},
   "outputs": [],
   "source": []
  },
  {
   "cell_type": "markdown",
   "id": "9c71f524-3cf1-4031-88a4-bac142f2b559",
   "metadata": {},
   "source": [
    "### Reflection:\n",
    "1.  What is a for loop used for?\n",
    "2. What type of data can you loop through?\n",
    "3.  How many times will a loop run if the list has 3 items?"
   ]
  },
  {
   "cell_type": "code",
   "execution_count": null,
   "id": "f10aed5c-3a30-48e6-83d9-a49328124a02",
   "metadata": {},
   "outputs": [],
   "source": [
    "# Answer here "
   ]
  },
  {
   "cell_type": "markdown",
   "id": "257e16fb-1bc9-45cf-b27a-77d0ffcf7218",
   "metadata": {},
   "source": [
    "# Part 3 | While Loops\n",
    "##### ✨ What is a while loop?\n",
    "A while loop repeats as long as a condition is True.\n",
    "\n",
    "Example:\n",
    "```python\n",
    "count = 0\n",
    "\n",
    "while count < 3:\n",
    "    print(\"Hello!\")\n",
    "    count = count + 1\n",
    "\n",
    "```\n",
    "This loop will print \"Hello!\" three times."
   ]
  },
  {
   "cell_type": "markdown",
   "id": "50501124-fa9b-48ab-b21f-c178ae10d664",
   "metadata": {},
   "source": [
    "### 3.1 Loop until a specific number is met"
   ]
  },
  {
   "cell_type": "markdown",
   "id": "c27d1515-4d63-4d67-8ccf-3fd2d3723639",
   "metadata": {},
   "source": [
    "#### 3.1.1 Run the code below"
   ]
  },
  {
   "cell_type": "code",
   "execution_count": null,
   "id": "69df2665-d668-4b84-9913-6ff0c8a6bed9",
   "metadata": {},
   "outputs": [],
   "source": [
    "number = 1\n",
    "\n",
    "while number <= 5:\n",
    "    print(number)\n",
    "    number = number + 1"
   ]
  },
  {
   "cell_type": "markdown",
   "id": "0927ef6c-3c76-4b93-beda-230b8619b87a",
   "metadata": {},
   "source": [
    "#### 3.1.2 What happens if you change the number on the last row to 2?"
   ]
  },
  {
   "cell_type": "code",
   "execution_count": null,
   "id": "df73db54-39e8-402a-aa96-9869e5ef7b69",
   "metadata": {},
   "outputs": [],
   "source": [
    "# Write your answer here"
   ]
  },
  {
   "cell_type": "code",
   "execution_count": null,
   "id": "356184bc-48e9-4e73-8d2b-1b0c453bbc28",
   "metadata": {},
   "outputs": [],
   "source": []
  },
  {
   "cell_type": "markdown",
   "id": "7abc39d3-2938-4dce-b575-94d8bb060d7b",
   "metadata": {},
   "source": [
    "#### 3.1.3 Try running the code again!"
   ]
  },
  {
   "cell_type": "code",
   "execution_count": null,
   "id": "116c7636-3591-406b-959e-d737a4dc54d7",
   "metadata": {},
   "outputs": [],
   "source": [
    "number = 1\n",
    "\n",
    "while number <= 5:\n",
    "    print(number)\n",
    "    number = number + 2"
   ]
  },
  {
   "cell_type": "code",
   "execution_count": null,
   "id": "a5204ab7-26f7-4c68-87de-479ad6eeae08",
   "metadata": {},
   "outputs": [],
   "source": []
  },
  {
   "cell_type": "markdown",
   "id": "02a627d7-ffca-46b9-bc5d-e0107e3f82b7",
   "metadata": {},
   "source": [
    "#### 3.1.4 Countdown with a while loop\n",
    "1. Create a variable countdown and set it to 5\n",
    "2. Write the logic for a while loop that checks if the countdown variable is larger or equal to 0\n",
    "3. If not the countdown variable should be printed and for each iteration -1 should be deducted from the countdown variable"
   ]
  },
  {
   "cell_type": "code",
   "execution_count": null,
   "id": "c52594cf-12a7-4c89-b8c4-3c477da540b6",
   "metadata": {},
   "outputs": [],
   "source": [
    "# Code here\n",
    "countdown = \n",
    "\n",
    "while... "
   ]
  },
  {
   "cell_type": "code",
   "execution_count": null,
   "id": "9b9a43e9-1b61-4312-81c4-77d71b194105",
   "metadata": {},
   "outputs": [],
   "source": []
  },
  {
   "cell_type": "markdown",
   "id": "8d9cf378-51cb-43c1-9bc0-bafac5f25058",
   "metadata": {},
   "source": [
    "### 3.2 While loop with a condition\n",
    "You can add a condition to a while loop to break the loop when that condition is met."
   ]
  },
  {
   "cell_type": "markdown",
   "id": "a945a54a-1908-4667-b317-92ff0afb19e6",
   "metadata": {},
   "source": [
    "#### 3.2.1 What will be printed when you run the code below? Answer first and then run the code!"
   ]
  },
  {
   "cell_type": "code",
   "execution_count": null,
   "id": "06fea22b-2109-498b-9651-135652095879",
   "metadata": {},
   "outputs": [],
   "source": [
    "colors = [\"red\", \"blue\", \"green\", \"stop\", \"yellow\"]\n",
    "\n",
    "i = 0\n",
    "while colors[i] != \"stop\":\n",
    "    print(colors[i])\n",
    "    i = i + 1"
   ]
  },
  {
   "cell_type": "code",
   "execution_count": null,
   "id": "f719c338-2ee1-4688-8391-eda6552419b2",
   "metadata": {},
   "outputs": [],
   "source": [
    "# Answer here"
   ]
  },
  {
   "cell_type": "code",
   "execution_count": null,
   "id": "94656710-d389-4762-90a0-6cd6e8aa6a19",
   "metadata": {},
   "outputs": [],
   "source": []
  },
  {
   "cell_type": "markdown",
   "id": "59d9101d-be77-4aac-8e19-c745c78f1770",
   "metadata": {},
   "source": [
    "#### 3.2.2 Loop until a fruit is rotten\n",
    "1. Create a while loop that loops over the list of fruits until you find a \"rotten\" fruit\n",
    "2. Only print the fruits that appear before \"rotten\" in the list"
   ]
  },
  {
   "cell_type": "code",
   "execution_count": null,
   "id": "43fb1392-dd9b-4dd5-b6a3-c23830f4754e",
   "metadata": {},
   "outputs": [],
   "source": [
    "fruits = [\"apple\", \"banana\", \"orange\", \"rotten\", \"pear\", \"grape\"]\n",
    "\n",
    "# Code here"
   ]
  },
  {
   "cell_type": "code",
   "execution_count": null,
   "id": "a09dbc11-be9a-4c8c-9672-07ab2c31b581",
   "metadata": {},
   "outputs": [],
   "source": []
  },
  {
   "cell_type": "markdown",
   "id": "9a473ccb-da79-476c-b4a4-6d18ba90ea54",
   "metadata": {},
   "source": [
    "### 3.3 Check log-in attempts\n",
    "Write logic to create a while loop that checks number of log-in attempts to a computer, if the there are more than 3 attempts print \"Too many attempts\".\n",
    "1. Create a variable called tries and set it to 0\n",
    "2. Write logic for the while loop that checks if number of tries is less than 3\n",
    "3. Print what try the log-in attempt is: \"Log-in attempt\", tries + 1\n",
    "4. At the end (outside the loop), print \"Too many attempts\""
   ]
  },
  {
   "cell_type": "code",
   "execution_count": null,
   "id": "7651e19e-9a51-45ee-9824-08708a14b945",
   "metadata": {},
   "outputs": [],
   "source": [
    "# Code here\n"
   ]
  },
  {
   "cell_type": "code",
   "execution_count": null,
   "id": "e17d6f21-57a2-431b-9c50-64c002eb081b",
   "metadata": {},
   "outputs": [],
   "source": []
  },
  {
   "cell_type": "markdown",
   "id": "1cba0dda-5178-4a6e-91b9-a04400c8730b",
   "metadata": {},
   "source": [
    "### Reflection:\n",
    "1.  What does a while loop do?\n",
    "2. What must eventually happen inside a while loop?\n",
    "3.  How is a while loop different from a for loop?"
   ]
  },
  {
   "cell_type": "code",
   "execution_count": null,
   "id": "3a06a3b0-2e02-4d37-b280-f389a5657df8",
   "metadata": {},
   "outputs": [],
   "source": [
    "# Answer here "
   ]
  },
  {
   "cell_type": "code",
   "execution_count": null,
   "id": "9a531265-a3e3-4a57-aaac-d34aa3734dcb",
   "metadata": {},
   "outputs": [],
   "source": []
  },
  {
   "cell_type": "markdown",
   "id": "976d610c-97a7-42fc-b2f0-1ddde5250b8b",
   "metadata": {},
   "source": [
    "# Great Job! Second part of the prep-work is done 🚀"
   ]
  }
 ],
 "metadata": {
  "kernelspec": {
   "display_name": "base",
   "language": "python",
   "name": "python3"
  },
  "language_info": {
   "codemirror_mode": {
    "name": "ipython",
    "version": 3
   },
   "file_extension": ".py",
   "mimetype": "text/x-python",
   "name": "python",
   "nbconvert_exporter": "python",
   "pygments_lexer": "ipython3",
   "version": "3.13.5"
  }
 },
 "nbformat": 4,
 "nbformat_minor": 5
}
